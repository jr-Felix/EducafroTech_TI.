{
  "nbformat": 4,
  "nbformat_minor": 0,
  "metadata": {
    "colab": {
      "provenance": [],
      "authorship_tag": "ABX9TyOLoj4MUm+dvIgxdbIOp43o"
    },
    "kernelspec": {
      "name": "python3",
      "display_name": "Python 3"
    },
    "language_info": {
      "name": "python"
    }
  },
  "cells": [
    {
      "cell_type": "markdown",
      "source": [
        "21). Função que imprime todos os divisores de um número."
      ],
      "metadata": {
        "id": "NmQsR-qBJX6a"
      }
    },
    {
      "cell_type": "code",
      "source": [
        "# A função percorre todos os números de 1 até n.\n",
        "# Para cada número i, verifica se o resto da divisão n % i é zero (ou seja, i é divisor de n).\n",
        "# Se for divisor, imprime i.\n",
        "\n",
        "def imprimir_divisores(n):\n",
        "    print(f\"Divisores de {n}:\")\n",
        "    for i in range(1, n + 1):\n",
        "        if n % i == 0:\n",
        "            print(i)\n",
        "\n",
        "# Exemplo de uso:\n",
        "imprimir_divisores(28)"
      ],
      "metadata": {
        "colab": {
          "base_uri": "https://localhost:8080/"
        },
        "id": "3s4vv2emJilI",
        "outputId": "10a2c372-80e5-4a87-c617-72b373121f3b"
      },
      "execution_count": null,
      "outputs": [
        {
          "output_type": "stream",
          "name": "stdout",
          "text": [
            "Divisores de 28:\n",
            "1\n",
            "2\n",
            "4\n",
            "7\n",
            "14\n",
            "28\n"
          ]
        }
      ]
    },
    {
      "cell_type": "markdown",
      "source": [
        "22). Função que calcula o fatorial de n."
      ],
      "metadata": {
        "id": "ChlP6BJpKjo5"
      }
    },
    {
      "cell_type": "code",
      "source": [
        "# A função fatorial recebe um número n.\n",
        "# Inicializa resultado com 1.\n",
        "# Multiplica resultado pelos números de 1 até n.\n",
        "# Retorna o valor final.\n",
        "# Se o usuário digitar 5 → 5! = 5 × 4 × 3 × 2 × 1 = 120\n",
        "\n",
        "def fatorial(n):\n",
        "    if n < 0:\n",
        "        return None  # Fatorial não é definido para números negativos\n",
        "    resultado = 1\n",
        "    for i in range(1, n + 1):\n",
        "        resultado *= i\n",
        "    return resultado\n",
        "\n",
        "# Exemplo de uso:\n",
        "print(fatorial(5))  # Saída: 120"
      ],
      "metadata": {
        "colab": {
          "base_uri": "https://localhost:8080/"
        },
        "id": "1u2rO5jfKqLz",
        "outputId": "2f45fd25-0e13-4b28-a0aa-77fb850362cd"
      },
      "execution_count": null,
      "outputs": [
        {
          "output_type": "stream",
          "name": "stdout",
          "text": [
            "120\n"
          ]
        }
      ]
    },
    {
      "cell_type": "markdown",
      "source": [
        "23). Função que imprime os n primeiros termos da sequência de Fibonacci."
      ],
      "metadata": {
        "id": "I739DpLdK8W2"
      }
    },
    {
      "cell_type": "code",
      "source": [
        "# Começamos com a = 0 e b = 1, os dois primeiros termos da sequência.\n",
        "# Para cada termo, imprimimos a e depois atualizamos a e b para os próximos valores (b e a + b).\n",
        "# O loop roda n vezes para imprimir os primeiros n termos.\n",
        "\n",
        "def imprimir_fibonacci(n):\n",
        "    a, b = 0, 1\n",
        "    for _ in range(n):\n",
        "        print(a, end=' ')\n",
        "        a, b = b, a + b\n",
        "    print()\n",
        "\n",
        "# Exemplo de uso:\n",
        "imprimir_fibonacci(10)"
      ],
      "metadata": {
        "id": "IsMkTH_RLDaZ"
      },
      "execution_count": null,
      "outputs": []
    },
    {
      "cell_type": "markdown",
      "source": [
        "24). Função que conta quantas letras maiúsculas tem em uma frase."
      ],
      "metadata": {
        "id": "xOCySZBRLav-"
      }
    },
    {
      "cell_type": "code",
      "source": [
        "# A função percorre cada caractere da frase.\n",
        "# Usa o método .isupper() para verificar se o caractere é uma letra maiúscula.\n",
        "# Incrementa o contador para cada letra maiúscula encontrada.\n",
        "# Retorna o total de letras maiúsculas.\n",
        "\n",
        "def contar_maiusculas(frase):\n",
        "    contador = 0\n",
        "    for char in frase:\n",
        "        if char.isupper():\n",
        "            contador += 1\n",
        "    return contador\n",
        "\n",
        "# Exemplo de uso:\n",
        "frase = \"Olá Mundo! Isto É Um Teste.\"\n",
        "print(contar_maiusculas(frase))  # Saída: 6"
      ],
      "metadata": {
        "colab": {
          "base_uri": "https://localhost:8080/"
        },
        "id": "755e6SXeLjus",
        "outputId": "5df32677-4730-4ac7-f3a4-7d1b470eb1e2"
      },
      "execution_count": null,
      "outputs": [
        {
          "output_type": "stream",
          "name": "stdout",
          "text": [
            "6\n"
          ]
        }
      ]
    },
    {
      "cell_type": "markdown",
      "source": [
        "25). Função que recebe lista de números e devolve quantos são positivos."
      ],
      "metadata": {
        "id": "A3_9bGkeMEb0"
      }
    },
    {
      "cell_type": "code",
      "source": [
        "# A função contar_positivos percorre a lista.\n",
        "# Para cada número, verifica se é maior que 0.\n",
        "# Se for, incrementa a variável contagem.\n",
        "# No final, retorna a quantidade de números positivos encontrados.\n",
        "\n",
        "def contar_positivos(lista):\n",
        "    contador = 0\n",
        "    for num in lista:\n",
        "        if num > 0:\n",
        "            contador += 1\n",
        "    return contador\n",
        "\n",
        "# Exemplo de uso:\n",
        "numeros = [-2, 0, 5, 7, -1, 3]\n",
        "print(contar_positivos(numeros))  # Saída: 3"
      ],
      "metadata": {
        "colab": {
          "base_uri": "https://localhost:8080/"
        },
        "id": "7hramfeYMckT",
        "outputId": "124d4ef2-044a-4899-eda6-a7d5d4177fd7"
      },
      "execution_count": null,
      "outputs": [
        {
          "output_type": "stream",
          "name": "stdout",
          "text": [
            "3\n"
          ]
        }
      ]
    },
    {
      "cell_type": "markdown",
      "source": [
        "26). Função que imprime todos os números entre dois números dados."
      ],
      "metadata": {
        "id": "-KXaUvyBS_rB"
      }
    },
    {
      "cell_type": "code",
      "source": [
        "# A função imprimir_intervalo recebe dois parâmetros: inicio e fim.\n",
        "# O range(inicio, fim + 1) vai do número inicial até o final (o +1 é porque o range vai até o número anterior ao valor passado como segundo argumento).\n",
        "# Em seguida, o for percorre e imprime cada número nesse intervalo.\n",
        "\n",
        "def imprimir_intervalo(inicio, fim):\n",
        "    for numero in range(inicio, fim + 1):\n",
        "        print(numero)\n",
        "\n",
        "# Exemplo de uso\n",
        "imprimir_intervalo(5, 15)"
      ],
      "metadata": {
        "colab": {
          "base_uri": "https://localhost:8080/"
        },
        "id": "JejPKnnYTOYU",
        "outputId": "66e89065-4416-4766-8060-219ac820bf3b"
      },
      "execution_count": null,
      "outputs": [
        {
          "output_type": "stream",
          "name": "stdout",
          "text": [
            "5\n",
            "6\n",
            "7\n",
            "8\n",
            "9\n",
            "10\n",
            "11\n",
            "12\n",
            "13\n",
            "14\n",
            "15\n"
          ]
        }
      ]
    },
    {
      "cell_type": "markdown",
      "source": [
        "27). Função que recebe um nome e imprime cada letra em caixa alta."
      ],
      "metadata": {
        "id": "98c5QzgEUxpY"
      }
    },
    {
      "cell_type": "code",
      "source": [
        "# A função imprimir_letras_maiusculas recebe a string nome.\n",
        "# O for percorre cada caractere da string.\n",
        "# letra.upper() converte a letra para maiúscula.\n",
        "# E o print exibe uma por linha.\n",
        "\n",
        "def imprimir_letras_maiusculas(nome):\n",
        "    for letra in nome:\n",
        "        print(letra.upper())\n",
        "\n",
        "# Exemplo de uso\n",
        "imprimir_letras_maiusculas(\"Felix\")"
      ],
      "metadata": {
        "colab": {
          "base_uri": "https://localhost:8080/"
        },
        "id": "-A-zjTmiU8PI",
        "outputId": "8cfaa907-67b6-4e03-c150-3b880b0ce7e3"
      },
      "execution_count": null,
      "outputs": [
        {
          "output_type": "stream",
          "name": "stdout",
          "text": [
            "F\n",
            "E\n",
            "L\n",
            "I\n",
            "X\n"
          ]
        }
      ]
    },
    {
      "cell_type": "markdown",
      "source": [
        "28). Função que remove vogais de uma string usando for."
      ],
      "metadata": {
        "id": "-W0k3gdJec7C"
      }
    },
    {
      "cell_type": "code",
      "source": [
        "# A função remover_vogais recebe a string texto.\n",
        "# Cria uma variável resultado que começa vazia.\n",
        "# O for percorre cada caractere da string.\n",
        "# Se a letra (convertida para minúscula com lower()) não estiver na string \"aeiou\", ela é adicionada ao resultado.\n",
        "\n",
        "def remover_vogais(texto):\n",
        "    resultado = \"\"\n",
        "    for letra in texto:\n",
        "        if letra.lower() not in \"aeiou\":\n",
        "            resultado += letra\n",
        "    return resultado\n",
        "\n",
        "# Exemplo de uso\n",
        "frase = \"Python é divertido\"\n",
        "frase_sem_vogais = remover_vogais(frase)\n",
        "print(frase_sem_vogais)"
      ],
      "metadata": {
        "id": "QqtaGIKBe4KL"
      },
      "execution_count": null,
      "outputs": []
    },
    {
      "cell_type": "markdown",
      "source": [
        "29). Função que imprime os 10 primeiros números primos."
      ],
      "metadata": {
        "id": "5Mc1DJVCgE9Q"
      }
    },
    {
      "cell_type": "code",
      "source": [
        "def imprimir_primos():\n",
        "    primos = []\n",
        "    numero = 2  # o primeiro número primo\n",
        "\n",
        "    while len(primos) < 10:\n",
        "        # verificar se o número é primo\n",
        "        eh_primo = True\n",
        "        for i in range(2, int(numero ** 0.5) + 1):\n",
        "            if numero % i == 0:\n",
        "                eh_primo = False\n",
        "                break\n",
        "        if eh_primo:\n",
        "            primos.append(numero)\n",
        "        numero += 1\n",
        "\n",
        "    # imprimir os números primos encontrados\n",
        "    for p in primos:\n",
        "        print(p)\n",
        "\n",
        "# chamando a função\n",
        "imprimir_primos()"
      ],
      "metadata": {
        "colab": {
          "base_uri": "https://localhost:8080/"
        },
        "id": "wsJKsLRxFuXC",
        "outputId": "e65ad9cc-6c7a-4ff9-e629-041a16200248"
      },
      "execution_count": 2,
      "outputs": [
        {
          "output_type": "stream",
          "name": "stdout",
          "text": [
            "2\n",
            "3\n",
            "5\n",
            "7\n",
            "11\n",
            "13\n",
            "17\n",
            "19\n",
            "23\n",
            "29\n"
          ]
        }
      ]
    },
    {
      "cell_type": "markdown",
      "source": [
        "30). Função que retorna a soma dos elementos pares de uma lista."
      ],
      "metadata": {
        "id": "9zGzom8KF6AX"
      }
    },
    {
      "cell_type": "code",
      "source": [
        "def soma_pares(lista):\n",
        "    soma = 0\n",
        "    for numero in lista:\n",
        "        if numero % 2 == 0:\n",
        "            soma += numero\n",
        "    return soma\n",
        "\n",
        "# exemplo de uso\n",
        "numeros = [1, 2, 3, 4, 5, 6, 7, 8]\n",
        "resultado = soma_pares(numeros)\n",
        "print(\"Soma dos números pares:\", resultado)"
      ],
      "metadata": {
        "colab": {
          "base_uri": "https://localhost:8080/"
        },
        "id": "DTrUav0jGW23",
        "outputId": "b9c57953-a424-418c-c1e0-ae77534c9710"
      },
      "execution_count": 3,
      "outputs": [
        {
          "output_type": "stream",
          "name": "stdout",
          "text": [
            "Soma dos números pares: 20\n"
          ]
        }
      ]
    }
  ]
}