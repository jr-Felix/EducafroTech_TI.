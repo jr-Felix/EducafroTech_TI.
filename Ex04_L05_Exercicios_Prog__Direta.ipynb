{
  "nbformat": 4,
  "nbformat_minor": 0,
  "metadata": {
    "colab": {
      "provenance": [],
      "authorship_tag": "ABX9TyOH3Cn4bjyKUaM2N4y8NeLM"
    },
    "kernelspec": {
      "name": "python3",
      "display_name": "Python 3"
    },
    "language_info": {
      "name": "python"
    }
  },
  "cells": [
    {
      "cell_type": "markdown",
      "source": [
        "31). Crie uma lista com os quadrados de 1 a 20."
      ],
      "metadata": {
        "id": "P--fcOABISG4"
      }
    },
    {
      "cell_type": "code",
      "source": [
        "# append() é um método de lista que adiciona um elemento ao final da lista.\n",
        "# Ele modifica a lista original diretamente, sem retornar uma nova lista.\n",
        "\n",
        "def quadrados_1_a_20():\n",
        "    lista_quadrados = []\n",
        "    for i in range(1, 21):\n",
        "        lista_quadrados.append(i ** 2)\n",
        "    print(lista_quadrados)\n",
        "\n",
        "quadrados_1_a_20()"
      ],
      "metadata": {
        "colab": {
          "base_uri": "https://localhost:8080/"
        },
        "id": "nyED_rYlJPon",
        "outputId": "57fe8ed8-0743-47ce-fd50-55f3d7a9de0b"
      },
      "execution_count": null,
      "outputs": [
        {
          "output_type": "stream",
          "name": "stdout",
          "text": [
            "[1, 4, 9, 16, 25, 36, 49, 64, 81, 100, 121, 144, 169, 196, 225, 256, 289, 324, 361, 400]\n"
          ]
        }
      ]
    },
    {
      "cell_type": "markdown",
      "source": [
        "32). Some todos os números múltiplos de 7 entre 1 e 100."
      ],
      "metadata": {
        "id": "E7AG1ORaJ71h"
      }
    },
    {
      "cell_type": "code",
      "source": [
        "# for i in range(1, 101) → percorre de 1 a 100.\n",
        "# if i % 7 == 0 → verifica se o número é múltiplo de 7.\n",
        "# soma += i → soma os múltiplos.\n",
        "# No final, imprime o resultado.\n",
        "\n",
        "def soma_multiplos_7():\n",
        "    soma = 0\n",
        "    for i in range(1, 101):\n",
        "        if i % 7 == 0:\n",
        "            soma += i\n",
        "    print(\"A soma dos múltiplos de 7 entre 1 e 100 é:\", soma)\n",
        "\n",
        "soma_multiplos_7()"
      ],
      "metadata": {
        "colab": {
          "base_uri": "https://localhost:8080/"
        },
        "id": "7jtR2T7tKWjs",
        "outputId": "7a97038a-dedc-4a25-808a-0af54fd7063e"
      },
      "execution_count": null,
      "outputs": [
        {
          "output_type": "stream",
          "name": "stdout",
          "text": [
            "A soma dos múltiplos de 7 entre 1 e 100 é: 735\n"
          ]
        }
      ]
    },
    {
      "cell_type": "markdown",
      "source": [
        "33). Crie uma lista com as letras de uma palavra."
      ],
      "metadata": {
        "id": "Nu4pTr3sK3Xh"
      }
    },
    {
      "cell_type": "code",
      "source": [
        "# A função list(palavra) converte a string em uma lista onde cada caractere vira um item da lista.\n",
        "# No exemplo acima, a palavra \"Python\" vira ['P', 'y', 't', 'h', 'o', 'n'].\n",
        "\n",
        "def cria_lista_letras(palavra):\n",
        "    lista = list(palavra)\n",
        "    print(lista)\n",
        "\n",
        "cria_lista_letras(\"Python\")"
      ],
      "metadata": {
        "colab": {
          "base_uri": "https://localhost:8080/"
        },
        "id": "MINvHFfHLEKo",
        "outputId": "5018308e-bb4c-46c1-c84f-9602137cce36"
      },
      "execution_count": null,
      "outputs": [
        {
          "output_type": "stream",
          "name": "stdout",
          "text": [
            "['P', 'y', 't', 'h', 'o', 'n']\n"
          ]
        }
      ]
    },
    {
      "cell_type": "markdown",
      "source": [
        "34). Conte quantas palavras tem uma frase."
      ],
      "metadata": {
        "id": "YF4h4d2vLgAK"
      }
    },
    {
      "cell_type": "code",
      "source": [
        "# split() → separa a frase em palavras, considerando os espaços.\n",
        "# len(palavras) → conta quantos itens (palavras) a lista tem.\n",
        "\n",
        "def conta_palavras(frase):\n",
        "    palavras = frase.split()\n",
        "    quantidade = len(palavras)\n",
        "    print(\"A frase tem\", quantidade, \"palavras.\")\n",
        "\n",
        "conta_palavras(\"Hoje o dia está muito bonito\")"
      ],
      "metadata": {
        "colab": {
          "base_uri": "https://localhost:8080/"
        },
        "id": "B6Smwi2QLuvU",
        "outputId": "d5c6aeed-f7b4-44e4-be1d-5264cb82af7f"
      },
      "execution_count": null,
      "outputs": [
        {
          "output_type": "stream",
          "name": "stdout",
          "text": [
            "A frase tem 6 palavras.\n"
          ]
        }
      ]
    },
    {
      "cell_type": "markdown",
      "source": [
        "35). Incremente todos os elementos de uma lista em 10."
      ],
      "metadata": {
        "id": "9_65xuQoMPjr"
      }
    },
    {
      "cell_type": "code",
      "source": [
        "def incrementa_lista(lista):\n",
        "    return [x + 10 for x in lista]\n",
        "\n",
        "numeros = [2, 4, 6, 8]\n",
        "resultado = incrementa_lista(numeros)\n",
        "print(resultado)"
      ],
      "metadata": {
        "colab": {
          "base_uri": "https://localhost:8080/"
        },
        "id": "D9S4LfN-NGB7",
        "outputId": "8f57ddeb-6cc0-4250-eaa4-0ce24d963e2a"
      },
      "execution_count": null,
      "outputs": [
        {
          "output_type": "stream",
          "name": "stdout",
          "text": [
            "[12, 14, 16, 18]\n"
          ]
        }
      ]
    },
    {
      "cell_type": "markdown",
      "source": [
        "36). Liste todos os números primos entre 1 e 100."
      ],
      "metadata": {
        "id": "OrqUBNZ-NTxe"
      }
    },
    {
      "cell_type": "code",
      "source": [
        "# A função listar_primos() percorre os números de 2 a 100.\n",
        "# Para cada número, verifica se ele é divisível por algum valor entre 2 e a raiz quadrada do número.\n",
        "# Se encontrar algum divisor, não é primo.\n",
        "# Se não encontrar, imprime o número.\n",
        "\n",
        "def listar_primos():\n",
        "    for num in range(2, 101):  # começa de 2, pois 1 não é primo\n",
        "        eh_primo = True\n",
        "        for i in range(2, int(num ** 0.5) + 1):\n",
        "            if num % i == 0:\n",
        "                eh_primo = False\n",
        "                break\n",
        "        if eh_primo:\n",
        "            print(num)\n",
        "\n",
        "listar_primos()"
      ],
      "metadata": {
        "colab": {
          "base_uri": "https://localhost:8080/"
        },
        "id": "Sl3pC2Fox68P",
        "outputId": "650f4730-af60-4d05-de48-cefb3fcd5497"
      },
      "execution_count": 1,
      "outputs": [
        {
          "output_type": "stream",
          "name": "stdout",
          "text": [
            "2\n",
            "3\n",
            "5\n",
            "7\n",
            "11\n",
            "13\n",
            "17\n",
            "19\n",
            "23\n",
            "29\n",
            "31\n",
            "37\n",
            "41\n",
            "43\n",
            "47\n",
            "53\n",
            "59\n",
            "61\n",
            "67\n",
            "71\n",
            "73\n",
            "79\n",
            "83\n",
            "89\n",
            "97\n"
          ]
        }
      ]
    },
    {
      "cell_type": "markdown",
      "source": [
        "37). Some os valores de uma matriz 3x3."
      ],
      "metadata": {
        "id": "5rDnG0sP0RzP"
      }
    },
    {
      "cell_type": "code",
      "source": [
        "# A matriz é uma lista de listas, com 3 linhas e 3 colunas.\n",
        "# Dois for percorrem a matriz:\n",
        "# O primeiro percorre as linhas.\n",
        "# O segundo percorre os valores dentro de cada linha.\n",
        "# Soma-se todos os valores e imprime o resultado.\n",
        "# Ele soma  [1, 2, 3], [4, 5, 6], [7, 8, 9] = 45\n",
        "\n",
        "def somar_matriz():\n",
        "    matriz = [\n",
        "        [1, 2, 3],\n",
        "        [4, 5, 6],\n",
        "        [7, 8, 9]\n",
        "    ]\n",
        "\n",
        "    soma = 0\n",
        "    for linha in matriz:\n",
        "        for valor in linha:\n",
        "            soma += valor\n",
        "\n",
        "    print(\"A soma dos valores da matriz é:\", soma)\n",
        "\n",
        "somar_matriz()"
      ],
      "metadata": {
        "colab": {
          "base_uri": "https://localhost:8080/"
        },
        "id": "-cNtqQtu0deY",
        "outputId": "97d8fed8-0ab9-4e92-adca-8b906f925006"
      },
      "execution_count": 2,
      "outputs": [
        {
          "output_type": "stream",
          "name": "stdout",
          "text": [
            "A soma dos valores da matriz é: 45\n"
          ]
        }
      ]
    },
    {
      "cell_type": "markdown",
      "source": [
        "38). Crie uma nova lista com apenas os valores ímpares de outra lista."
      ],
      "metadata": {
        "id": "m3PPbSiC1GTX"
      }
    },
    {
      "cell_type": "code",
      "source": [
        "# Primeira volta:\n",
        "# numero = 1\n",
        "# 1 % 2 != 0 → Verdadeiro\n",
        "# Adiciona 1 à lista_impares: agora lista_impares = [1]\n",
        "# Segunda volta:\n",
        "# numero = 2\n",
        "# 2 % 2 != 0 → Falso\n",
        "# Não faz nada.\n",
        "# Terceira volta:\n",
        "# numero = 3\n",
        "# 3 % 2 != 0 → Verdadeiro\n",
        "# Adiciona 3 à lista_impares: agora lista_impares = [1, 3]\n",
        "# E assim por diante…\n",
        "# 📌 Resumo:\n",
        "# O método .append() coloca o valor dentro da lista no final dela, e essa linha só é executada quando o número for ímpar.\n",
        "\n",
        "def filtrar_impares():\n",
        "    lista_original = [1, 2, 3, 4, 5, 6, 7, 8, 9, 10]\n",
        "    lista_impares = []\n",
        "\n",
        "    for numero in lista_original:\n",
        "        if numero % 2 != 0:\n",
        "            lista_impares.append(numero)\n",
        "\n",
        "    print(\"Lista original:\", lista_original)\n",
        "    print(\"Lista de ímpares:\", lista_impares)\n",
        "\n",
        "filtrar_impares()"
      ],
      "metadata": {
        "colab": {
          "base_uri": "https://localhost:8080/"
        },
        "id": "cD96tjm01Q0T",
        "outputId": "9b3465e5-3bd1-40dd-aa5a-f03b7adb7279"
      },
      "execution_count": 3,
      "outputs": [
        {
          "output_type": "stream",
          "name": "stdout",
          "text": [
            "Lista original: [1, 2, 3, 4, 5, 6, 7, 8, 9, 10]\n",
            "Lista de ímpares: [1, 3, 5, 7, 9]\n"
          ]
        }
      ]
    },
    {
      "cell_type": "markdown",
      "source": [
        "39). Inverta uma string sem usar slicing."
      ],
      "metadata": {
        "id": "PiLQQXoz3ziT"
      }
    },
    {
      "cell_type": "code",
      "source": [
        "# invertida começa vazia.\n",
        "# A cada volta do for, pega o caractere da texto e coloca antes da string invertida.\n",
        "# Assim, a string vai sendo construída de trás pra frente.\n",
        "\n",
        "def inverter_string():\n",
        "    texto = \"python\"\n",
        "    invertida = \"\"\n",
        "\n",
        "    for caractere in texto:\n",
        "        invertida = caractere + invertida  # coloca cada caractere na frente\n",
        "\n",
        "    print(\"Original:\", texto)\n",
        "    print(\"Invertida:\", invertida)\n",
        "\n",
        "inverter_string()"
      ],
      "metadata": {
        "colab": {
          "base_uri": "https://localhost:8080/"
        },
        "id": "pXw3N4HA4Lrx",
        "outputId": "eb6883b3-80de-457f-bf4a-0b958b7c8268"
      },
      "execution_count": 4,
      "outputs": [
        {
          "output_type": "stream",
          "name": "stdout",
          "text": [
            "Original: python\n",
            "Invertida: nohtyp\n"
          ]
        }
      ]
    },
    {
      "cell_type": "markdown",
      "source": [
        "40). Calcule a média dos valores de uma lista."
      ],
      "metadata": {
        "id": "0PIJl5Yc4ps3"
      }
    },
    {
      "cell_type": "code",
      "source": [
        "# soma começa em 0.\n",
        "# O for percorre a lista somando todos os números.\n",
        "# A média é calculada dividindo a soma pela quantidade de elementos na lista, que se obtém com len(lista).\n",
        "# len(lista) → é uma função que retorna a quantidade de elementos na lista.\n",
        "# Por fim, imprime a lista e o valor da média.\n",
        "\n",
        "def calcular_media():\n",
        "    lista = [7, 8, 5, 10, 9]\n",
        "    soma = 0\n",
        "\n",
        "    for numero in lista:\n",
        "        soma += numero  # soma todos os valores\n",
        "\n",
        "    media = soma / len(lista)  # divide pela quantidade de itens na lista\n",
        "\n",
        "    print(\"Lista:\", lista)\n",
        "    print(\"Média:\", media)\n",
        "\n",
        "calcular_media()"
      ],
      "metadata": {
        "colab": {
          "base_uri": "https://localhost:8080/"
        },
        "id": "WRHubES85Cey",
        "outputId": "b5181e06-bae2-41f2-e0b9-7f91ab7478b8"
      },
      "execution_count": 5,
      "outputs": [
        {
          "output_type": "stream",
          "name": "stdout",
          "text": [
            "Lista: [7, 8, 5, 10, 9]\n",
            "Média: 7.8\n"
          ]
        }
      ]
    }
  ]
}