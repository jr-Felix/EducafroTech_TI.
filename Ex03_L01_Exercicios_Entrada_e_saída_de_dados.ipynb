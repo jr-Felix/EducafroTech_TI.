{
  "nbformat": 4,
  "nbformat_minor": 0,
  "metadata": {
    "colab": {
      "provenance": [],
      "authorship_tag": "ABX9TyMG/fz816z5bEfbblrOR23A"
    },
    "kernelspec": {
      "name": "python3",
      "display_name": "Python 3"
    },
    "language_info": {
      "name": "python"
    }
  },
  "cells": [
    {
      "cell_type": "markdown",
      "source": [
        "03\\03 - 10_EXERCÍCIOS: ENTRADA E SAÍDA DE DADOS"
      ],
      "metadata": {
        "id": "nHJVaHsfMeT3"
      }
    },
    {
      "cell_type": "markdown",
      "source": [
        "21). Peça ao usuário para digitar seu nome e idade. Imprima:<br>\n",
        "“Olá, NOME! Você tem IDADE anos.”"
      ],
      "metadata": {
        "id": "IuMB4s_LssMO"
      }
    },
    {
      "cell_type": "code",
      "source": [
        "# Solicita o nome do usuário\n",
        "nome = input(\"Digite seu nome: \")\n",
        "\n",
        "# Solicita a idade do usuário\n",
        "idade = input(\"Digite sua idade: \")\n",
        "\n",
        "# Imprime a mensagem\n",
        "print(f\"Olá, {nome}! Você tem {idade} anos.\")"
      ],
      "metadata": {
        "colab": {
          "base_uri": "https://localhost:8080/"
        },
        "id": "bzGUF_03s5_Q",
        "outputId": "c584c7e3-baee-4107-dd26-038df180ccdb"
      },
      "execution_count": null,
      "outputs": [
        {
          "output_type": "stream",
          "name": "stdout",
          "text": [
            "Digite seu nome: felix\n",
            "Digite sua idade: 60\n",
            "Olá, felix! Você tem 60 anos.\n"
          ]
        }
      ]
    },
    {
      "cell_type": "markdown",
      "source": [
        "22). Peça 2 números ao usuário e exiba a soma."
      ],
      "metadata": {
        "id": "dulXTsL-tEAY"
      }
    },
    {
      "cell_type": "code",
      "source": [
        "# Pede dois números ao usuário\n",
        "num1 = float(input(\"Digite o primeiro número: \"))\n",
        "num2 = float(input(\"Digite o segundo número: \"))\n",
        "\n",
        "# Calcula a soma\n",
        "soma = num1 + num2\n",
        "\n",
        "# Exibe o resultado\n",
        "print(f\"A soma de {num1} + {num2} é: {soma}\")"
      ],
      "metadata": {
        "colab": {
          "base_uri": "https://localhost:8080/"
        },
        "id": "QR0VuLrhth_w",
        "outputId": "8345cd28-2427-45e4-8066-2ac633e0856a"
      },
      "execution_count": null,
      "outputs": [
        {
          "output_type": "stream",
          "name": "stdout",
          "text": [
            "Digite o primeiro número: 20\n",
            "Digite o segundo número: 25\n",
            "A soma de 20.0 + 25.0 é: 45.0\n"
          ]
        }
      ]
    },
    {
      "cell_type": "markdown",
      "source": [
        "23). Peça um número e diga se ele é par ou ímpar."
      ],
      "metadata": {
        "id": "8FKkU5R2tuGn"
      }
    },
    {
      "cell_type": "code",
      "source": [
        "# Solicita um número ao usuário\n",
        "num = int(input(\"Digite um número: \"))\n",
        "\n",
        "# Verifica se o número é par ou ímpar\n",
        "if num % 2 == 0:\n",
        "    print(f\"O número {num} é par.\")\n",
        "else:\n",
        "    print(f\"O número {num} é ímpar.\")"
      ],
      "metadata": {
        "colab": {
          "base_uri": "https://localhost:8080/"
        },
        "id": "StQ-SyVCwbzq",
        "outputId": "a3080b25-d860-44fc-98c1-d277eb43b9dc"
      },
      "execution_count": null,
      "outputs": [
        {
          "output_type": "stream",
          "name": "stdout",
          "text": [
            "Digite um número: 22\n",
            "O número 22 é par.\n"
          ]
        }
      ]
    },
    {
      "cell_type": "markdown",
      "source": [
        "24). Peça o nome e a profissão do usuário.<br> Mostre uma mensagem formatada com f-string."
      ],
      "metadata": {
        "id": "ys_Y3D5SwmwK"
      }
    },
    {
      "cell_type": "code",
      "source": [
        "# Solicita o nome do usuário\n",
        "nome = input(\"Digite seu nome: \")\n",
        "\n",
        "# Solicita a profissão do usuário\n",
        "profissao = input(\"Digite sua profissão: \")\n",
        "\n",
        "# Exibe uma mensagem formatada\n",
        "print(f\"Olá, {nome}! Que legal ser um(a) {profissao}.\")"
      ],
      "metadata": {
        "colab": {
          "base_uri": "https://localhost:8080/"
        },
        "id": "-mvcIB57w2NV",
        "outputId": "bf675013-fda3-4f07-cd03-d1f761b4ac9e"
      },
      "execution_count": null,
      "outputs": [
        {
          "output_type": "stream",
          "name": "stdout",
          "text": [
            "Digite seu nome: Félix\n",
            "Digite sua profissão: Programador_Dev.\n",
            "Olá, Félix! Que legal ser um(a) Programador_Dev..\n"
          ]
        }
      ]
    },
    {
      "cell_type": "markdown",
      "source": [
        "25). Peça 3 notas, calcule a média e mostre o resultado com 2 casas decimais."
      ],
      "metadata": {
        "id": "KnksJyUsxDOG"
      }
    },
    {
      "cell_type": "code",
      "source": [
        "# Pedir 3 notas ao usuário\n",
        "nota1 = float(input(\"Digite a primeira nota: \"))\n",
        "nota2 = float(input(\"Digite a segunda nota: \"))\n",
        "nota3 = float(input(\"Digite a terceira nota: \"))\n",
        "\n",
        "# Calcular a média\n",
        "media = (nota1 + nota2 + nota3) / 3\n",
        "\n",
        "# Mostrar o resultado com 2 casas decimais\n",
        "print(f\"A média das notas é: {media:.2f}\")"
      ],
      "metadata": {
        "colab": {
          "base_uri": "https://localhost:8080/"
        },
        "id": "CmVc8gUMxn8e",
        "outputId": "1e3562eb-5956-41cb-e9f9-00479a03aae7"
      },
      "execution_count": null,
      "outputs": [
        {
          "output_type": "stream",
          "name": "stdout",
          "text": [
            "Digite a primeira nota: 20\n",
            "Digite a segunda nota: 34\n",
            "Digite a terceira nota: 65\n",
            "A média das notas é: 39.67\n"
          ]
        }
      ]
    },
    {
      "cell_type": "markdown",
      "source": [
        "26). Peça um valor em metros e converta para centímetros e milímetros."
      ],
      "metadata": {
        "id": "oioMWLTQxxZk"
      }
    },
    {
      "cell_type": "code",
      "source": [
        "# Solicita o valor em metros\n",
        "metros = float(input(\"Digite um valor em metros: \"))\n",
        "\n",
        "# Converte para centímetros e milímetros\n",
        "centimetros = metros * 100\n",
        "milimetros = metros * 1000\n",
        "\n",
        "# Exibe os resultados\n",
        "print(f\"\\nO valor em metros é: {metros} m\")\n",
        "print(f\"Convertido para centímetros: {centimetros} cm\")\n",
        "print(f\"Convertido para milímetros: {milimetros} mm\")"
      ],
      "metadata": {
        "colab": {
          "base_uri": "https://localhost:8080/"
        },
        "id": "Dq68_UX_x8Tb",
        "outputId": "bb9c9462-bc37-4def-d0d8-1b93aaa3745f"
      },
      "execution_count": null,
      "outputs": [
        {
          "output_type": "stream",
          "name": "stdout",
          "text": [
            "Digite um valor em metros: 120\n",
            "\n",
            "O valor em metros é: 120.0 m\n",
            "Convertido para centímetros: 12000.0 cm\n",
            "Convertido para milímetros: 120000.0 mm\n"
          ]
        }
      ]
    },
    {
      "cell_type": "markdown",
      "source": [
        "27). Peça ao usuário para digitar um número inteiro. Mostre o antecessor e o sucessor."
      ],
      "metadata": {
        "id": "4jnaA_YvyH6H"
      }
    },
    {
      "cell_type": "code",
      "source": [
        "# Solicita um número inteiro ao usuário\n",
        "numero = int(input(\"Digite um número inteiro: \"))\n",
        "\n",
        "# Calcula o antecessor e o sucessor\n",
        "antecessor = numero - 1\n",
        "sucessor = numero + 1\n",
        "\n",
        "# Exibe os resultados\n",
        "print(\"O antecessor de\", numero, \"é\", antecessor)\n",
        "print(\"O sucessor de\", numero, \"é\", sucessor)"
      ],
      "metadata": {
        "colab": {
          "base_uri": "https://localhost:8080/"
        },
        "id": "8wdt0yuPyaZd",
        "outputId": "19b8112d-432b-4980-97cb-d9521722ee33"
      },
      "execution_count": null,
      "outputs": [
        {
          "output_type": "stream",
          "name": "stdout",
          "text": [
            "Digite um número inteiro: 20\n",
            "O antecessor de 20 é 19\n",
            "O sucessor de 20 é 21\n"
          ]
        }
      ]
    },
    {
      "cell_type": "markdown",
      "source": [
        "28) . Peça o salário e mostre quanto ele ganharia com um aumento de 10%."
      ],
      "metadata": {
        "id": "tA14Mve0yn7B"
      }
    },
    {
      "cell_type": "code",
      "source": [
        "# Solicita o salário do usuário\n",
        "salario = float(input(\"Digite o seu salário: R$ \"))\n",
        "\n",
        "# Calcula o novo salário com 10% de aumento\n",
        "novo_salario = salario + (salario * 0.10)\n",
        "\n",
        "# Exibe o resultado\n",
        "print(\"Com um aumento de 10%, você passará a ganhar: R$ {:.2f}\".format(novo_salario))"
      ],
      "metadata": {
        "colab": {
          "base_uri": "https://localhost:8080/"
        },
        "id": "EwIecQ0cyyHw",
        "outputId": "5f3cc94d-d0ab-48af-e4b5-b0464ec5c476"
      },
      "execution_count": null,
      "outputs": [
        {
          "output_type": "stream",
          "name": "stdout",
          "text": [
            "Digite o seu salário: R$ 1500\n",
            "Com um aumento de 10%, você passará a ganhar: R$ 1650.00\n"
          ]
        }
      ]
    },
    {
      "cell_type": "markdown",
      "source": [],
      "metadata": {
        "id": "LAEqun5EzIcx"
      }
    },
    {
      "cell_type": "markdown",
      "source": [
        "29). Peça o valor de um produto e o desconto (%).<br> Mostre o valor com o desconto aplicado."
      ],
      "metadata": {
        "id": "0X9RoQu0zW4D"
      }
    },
    {
      "cell_type": "code",
      "source": [
        "# Solicita o valor do produto ao usuário\n",
        "valor_produto = float(input(\"Digite o valor do produto: R$ \"))\n",
        "\n",
        "# Solicita o percentual de desconto ao usuário\n",
        "desconto = float(input(\"Digite o percentual de desconto (%): \"))\n",
        "\n",
        "# Calcula o valor do desconto\n",
        "valor_desconto = valor_produto * (desconto / 100)\n",
        "\n",
        "# Calcula o valor final com desconto\n",
        "valor_final = valor_produto - valor_desconto\n",
        "\n",
        "# Exibe o valor com o desconto aplicado\n",
        "print(f\"O valor do produto com {desconto}% de desconto é: R$ {valor_final:.2f}\")"
      ],
      "metadata": {
        "colab": {
          "base_uri": "https://localhost:8080/"
        },
        "id": "nvqLkp4vzwiN",
        "outputId": "e1ac6af7-06df-4be5-8bde-20e756b65514"
      },
      "execution_count": null,
      "outputs": [
        {
          "output_type": "stream",
          "name": "stdout",
          "text": [
            "Digite o valor do produto: R$ 1000\n",
            "Digite o percentual de desconto (%): 10\n",
            "O valor do produto com 10.0% de desconto é: R$ 900.00\n"
          ]
        }
      ]
    },
    {
      "cell_type": "markdown",
      "source": [],
      "metadata": {
        "id": "w6bxELlTz7nU"
      }
    },
    {
      "cell_type": "markdown",
      "source": [
        "30). **Peça o nome, idade e cidade do usuário e imprima uma ficha personalizada:"
      ],
      "metadata": {
        "id": "wcHw8xdmHKXF"
      }
    },
    {
      "cell_type": "code",
      "source": [
        "# Solicita os dados do usuário\n",
        "nome = input(\"Digite seu nome: \")\n",
        "idade = input(\"Digite sua idade: \")\n",
        "cidade = input(\"Digite sua cidade: \")\n",
        "\n",
        "# Exibe a ficha personalizada\n",
        "# alinhamento a esquerda .1just(10)\n",
        "# ex.: print(\"Nome   :\".ljust(10), nome)\n",
        "# ou\n",
        "#print(f\"{'Nome':<7}:nome\")\n",
        "# sem aplicar distância a esquerda ex.: print(f\"Cidade: {cidade}\")\n",
        "\n",
        "print(\"\\n====FICHA DO USUÁRIO====\")\n",
        "print(f\"{'Nome':<7}:nome\")\n",
        "print(f\"{'Idade':<7}:idade\")\n",
        "print(f\"{'Cidade':<7}:cidade\")\n",
        "print(\"=========================\")"
      ],
      "metadata": {
        "colab": {
          "base_uri": "https://localhost:8080/"
        },
        "id": "DphjMZVfHSIv",
        "outputId": "60fdd188-069c-4244-dbec-f9ee25bac730"
      },
      "execution_count": null,
      "outputs": [
        {
          "output_type": "stream",
          "name": "stdout",
          "text": [
            "Digite seu nome: Félix\n",
            "Digite sua idade: 60\n",
            "Digite sua cidade: São Paulo\n",
            "\n",
            "====FICHA DO USUÁRIO====\n",
            "Nome   :nome\n",
            "Idade  :idade\n",
            "Cidade :cidade\n",
            "=========================\n"
          ]
        }
      ]
    }
  ]
}