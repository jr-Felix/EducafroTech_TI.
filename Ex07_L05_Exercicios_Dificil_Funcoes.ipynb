{
  "nbformat": 4,
  "nbformat_minor": 0,
  "metadata": {
    "colab": {
      "provenance": [],
      "authorship_tag": "ABX9TyNfTtqfIhAWhCKp3OhhoUQu"
    },
    "kernelspec": {
      "name": "python3",
      "display_name": "Python 3"
    },
    "language_info": {
      "name": "python"
    }
  },
  "cells": [
    {
      "cell_type": "markdown",
      "source": [
        "61). Função que implementa o algoritmo de ordenação bubble sort."
      ],
      "metadata": {
        "id": "fSwW4YKA6vVp"
      }
    },
    {
      "cell_type": "code",
      "source": [
        "# BUBBLE SORT é um algoritmo de ordenação simples que funciona comparando pares de elementos adjacentes e os trocando de posição se estiverem na ordem errada. Ele repete esse processo várias vezes até que a lista esteja ordenada.\n",
        "# Como funciona a funçao\n",
        "\n",
        "# Aqui, pegamos o número de elementos da lista para saber quantas passagens precisaremos fazer.\n",
        "def bubble_sort(lista):\n",
        "    n = len(lista) # Guarda o tamanho da lista\n",
        "    # Esse primeiro for controla quantas passagens completas faremos pela lista. Precisamos de n passagens no pior caso.\n",
        "    for i in range(n):\n",
        "        # Esse segundo for percorre a lista comparando pares de elementos adjacentes.\n",
        "        # Repare: a cada passagem, o maior valor \"bolha\" para o final, então podemos reduzir o tamanho da comparação em 1 a cada repetição (n - i - 1).\n",
        "        for j in range(0, n - i - 1):\n",
        "            # Aqui comparamos dois elementos consecutivos:\n",
        "            # Se o da esquerda for maior que o da direita, trocamos de posição.\n",
        "            if lista[j] > lista[j + 1]:\n",
        "                lista[j], lista[j + 1] = lista[j + 1], lista[j]\n",
        "    # Depois que todas as passagens são feitas e os elementos foram organizados, retornamos a lista ordenada.\n",
        "    return lista\n",
        "\n",
        "# Exemplo de uso\n",
        "numeros = [5, 3, 8, 4, 2]\n",
        "print(\"Lista original:\", numeros)\n",
        "ordenada = bubble_sort(numeros)\n",
        "print(\"Lista ordenada:\", ordenada)"
      ],
      "metadata": {
        "colab": {
          "base_uri": "https://localhost:8080/"
        },
        "id": "hlqqdQU2-Bb7",
        "outputId": "fc10adb4-2a2f-4cda-ed9f-3cccd599e936"
      },
      "execution_count": null,
      "outputs": [
        {
          "output_type": "stream",
          "name": "stdout",
          "text": [
            "Lista original: [5, 3, 8, 4, 2]\n",
            "Lista ordenada: [2, 3, 4, 5, 8]\n"
          ]
        }
      ]
    },
    {
      "cell_type": "markdown",
      "source": [
        "62). Função que encontra os dois maiores elementos de uma lista."
      ],
      "metadata": {
        "id": "qoR4b05EBDT4"
      }
    },
    {
      "cell_type": "code",
      "source": [
        "# Começamos definindo maior e segundo_maior com o menor valor possível (-infinito).\n",
        "# Percorremos cada número da lista:\n",
        "# Se o número for maior que maior, o valor atual de maior passa para segundo_maior e atualizamos maior.\n",
        "# Se não, mas for maior que segundo_maior e diferente de maior, atualizamos segundo_maior.\n",
        "# No final, retornamos os dois.\n",
        "\n",
        "def dois_maiores(lista):\n",
        "    if len(lista) < 2:\n",
        "        return \"A lista precisa ter pelo menos dois elementos.\"\n",
        "\n",
        "    maior = segundo_maior = float('-inf')\n",
        "\n",
        "    for numero in lista:\n",
        "        if numero > maior:\n",
        "            segundo_maior = maior\n",
        "            maior = numero\n",
        "        elif numero > segundo_maior and numero != maior:\n",
        "            segundo_maior = numero\n",
        "\n",
        "    return maior, segundo_maior\n",
        "\n",
        "# Exemplo de uso:\n",
        "numeros = [10, 25, 3, 89, 45, 89]\n",
        "resultado = dois_maiores(numeros)\n",
        "print(\"Os dois maiores números são:\", resultado)"
      ],
      "metadata": {
        "colab": {
          "base_uri": "https://localhost:8080/"
        },
        "id": "h5KqZsRxBlL7",
        "outputId": "25474c0b-7f63-4535-f0bd-845e6d869b55"
      },
      "execution_count": null,
      "outputs": [
        {
          "output_type": "stream",
          "name": "stdout",
          "text": [
            "Os dois maiores números são: (89, 45)\n"
          ]
        }
      ]
    },
    {
      "cell_type": "markdown",
      "source": [
        "63). Função que detecta palíndromos em uma lista de palavras."
      ],
      "metadata": {
        "id": "sE3Ye76uCold"
      }
    },
    {
      "cell_type": "code",
      "source": [
        "# polindromo palavra, frase, número, pode ser lida de trás para frente e de frente para trás.\n",
        "# Percorremos cada palavra na lista.\n",
        "# Convertendo para minúscula (lower()) para não ter problema com maiúsculas/minúsculas.\n",
        "# Usamos [::-1] para inverter a palavra.\n",
        "# Se a palavra for igual à sua versão invertida, adicionamos à lista palindromos.\n",
        "# Retornamos a lista com os palíndromos encontrados.\n",
        "\n",
        "def detectar_palindromos(lista):\n",
        "    palindromos = []\n",
        "\n",
        "    for palavra in lista:\n",
        "        if palavra.lower() == palavra.lower()[::-1]:\n",
        "            palindromos.append(palavra)\n",
        "\n",
        "    return palindromos\n",
        "\n",
        "# Exemplo de uso:\n",
        "palavras = [\"ana\", \"python\", \"radar\", \"level\", \"mundo\", \"reviver\"]\n",
        "resultado = detectar_palindromos(palavras)\n",
        "print(\"Palíndromos encontrados:\", resultado)"
      ],
      "metadata": {
        "colab": {
          "base_uri": "https://localhost:8080/"
        },
        "id": "IqHcTvojC_KF",
        "outputId": "9ba93e29-e5e4-4d25-f198-2491ae7b8ea5"
      },
      "execution_count": null,
      "outputs": [
        {
          "output_type": "stream",
          "name": "stdout",
          "text": [
            "Palíndromos encontrados: ['ana', 'radar', 'level', 'reviver']\n"
          ]
        }
      ]
    },
    {
      "cell_type": "markdown",
      "source": [
        "64). Função que conta números repetidos em uma lista."
      ],
      "metadata": {
        "id": "ZJnhKEshLebr"
      }
    },
    {
      "cell_type": "code",
      "source": [],
      "metadata": {
        "id": "1f9VxIv9qO0P"
      },
      "execution_count": null,
      "outputs": []
    },
    {
      "cell_type": "code",
      "source": [
        "# A função percorre a lista.\n",
        "# Para cada número, verifica quantas vezes ele aparece usando lista.count(numero).\n",
        "# Se for mais de 1, adiciona no dicionário repetidos com a contagem.\n",
        "# No final, retorna esse dicionário.\n",
        "\n",
        "def contar_repetidos(lista):\n",
        "    repetidos = {}\n",
        "    for numero in lista:\n",
        "        if lista.count(numero) > 1:\n",
        "            repetidos[numero] = lista.count(numero)\n",
        "    return repetidos\n",
        "\n",
        "# Exemplo de uso\n",
        "numeros = [1, 2, 3, 4, 2, 3, 5, 1, 1]\n",
        "resultado = contar_repetidos(numeros)\n",
        "\n",
        "print(\"Números repetidos e suas quantidades:\")\n",
        "for numero, quantidade in resultado.items():\n",
        "    print(f\"{numero} aparece {quantidade} vezes\")"
      ],
      "metadata": {
        "colab": {
          "base_uri": "https://localhost:8080/"
        },
        "id": "8IilCoyGp-0j",
        "outputId": "fd3dfdde-ebcc-4f54-e349-76747a21ad89"
      },
      "execution_count": 1,
      "outputs": [
        {
          "output_type": "stream",
          "name": "stdout",
          "text": [
            "Números repetidos e suas quantidades:\n",
            "1 aparece 3 vezes\n",
            "2 aparece 2 vezes\n",
            "3 aparece 2 vezes\n"
          ]
        }
      ]
    },
    {
      "cell_type": "markdown",
      "source": [
        "65). Função que resolve equações do 1º grau."
      ],
      "metadata": {
        "id": "O3hgDvBQrO7T"
      }
    },
    {
      "cell_type": "code",
      "source": [
        "# Se a for 0:\n",
        "# Se b também for 0 → infinitas soluções.\n",
        "# Se b for diferente de 0 → sem solução.\n",
        "# Se a for diferente de 0:\n",
        "\n",
        "# Calcula\n",
        "# 𝑥 = − 𝑏 / 𝑎 x=−b/a\n",
        "# Retorna o valor de x.\n",
        "\n",
        "def resolver_equacao_1_grau(a, b):\n",
        "    if a == 0:\n",
        "        if b == 0:\n",
        "            return \"A equação possui infinitas soluções.\"\n",
        "        else:\n",
        "            return \"A equação não possui solução.\"\n",
        "    else:\n",
        "        x = -b / a\n",
        "        return f\"A solução é x = {x:.2f}\"\n",
        "\n",
        "\n",
        "# Exemplo de uso\n",
        "a = float(input(\"Digite o valor de a: \"))\n",
        "b = float(input(\"Digite o valor de b: \"))\n",
        "\n",
        "resultado = resolver_equacao_1_grau(a, b)\n",
        "print(resultado)"
      ],
      "metadata": {
        "colab": {
          "base_uri": "https://localhost:8080/"
        },
        "id": "miOhoZGIrdar",
        "outputId": "b989fdf4-d5d6-49d3-dc57-0110e2f2dab6"
      },
      "execution_count": 3,
      "outputs": [
        {
          "output_type": "stream",
          "name": "stdout",
          "text": [
            "Digite o valor de a: 22\n",
            "Digite o valor de b: 7\n",
            "A solução é x = -0.32\n"
          ]
        }
      ]
    },
    {
      "cell_type": "markdown",
      "source": [
        "66). Função que implementa o crivo de Eratóstenes para primos."
      ],
      "metadata": {
        "id": "HEa9MJOfszbl"
      }
    },
    {
      "cell_type": "code",
      "source": [
        "# Cria-se uma lista de booleanos primos marcando todos como True.\n",
        "# Começa-se no 2 e vai até a raiz quadrada de n.\n",
        "# Para cada número i que ainda está como True, marca-se todos seus múltiplos como False.\n",
        "# No final, monta-se uma lista com os números que permaneceram True, que são os primos.\n",
        "\n",
        "def crivo_eratostenes(n):\n",
        "    primos = [True] * (n + 1)  # Cria uma lista com n+1 posições marcadas como True\n",
        "    primos[0] = primos[1] = False  # 0 e 1 não são primos\n",
        "\n",
        "    for i in range(2, int(n ** 0.5) + 1):\n",
        "        if primos[i]:\n",
        "            for j in range(i * i, n + 1, i):\n",
        "                primos[j] = False  # Marca todos os múltiplos de i como False (não primos)\n",
        "\n",
        "    # Monta a lista de números primos\n",
        "    lista_primos = [i for i in range(2, n + 1) if primos[i]]\n",
        "    return lista_primos\n",
        "\n",
        "# Exemplo de uso\n",
        "limite = int(input(\"Informe o valor limite: \"))\n",
        "primos_encontrados = crivo_eratostenes(limite)\n",
        "print(f\"Números primos até {limite}: {primos_encontrados}\")"
      ],
      "metadata": {
        "colab": {
          "base_uri": "https://localhost:8080/"
        },
        "id": "f2eJv64ttFWx",
        "outputId": "d820f716-a4be-4ebb-8e30-0b71a6cc8252"
      },
      "execution_count": 4,
      "outputs": [
        {
          "output_type": "stream",
          "name": "stdout",
          "text": [
            "Informe o valor limite: 100\n",
            "Números primos até 100: [2, 3, 5, 7, 11, 13, 17, 19, 23, 29, 31, 37, 41, 43, 47, 53, 59, 61, 67, 71, 73, 79, 83, 89, 97]\n"
          ]
        }
      ]
    },
    {
      "cell_type": "markdown",
      "source": [
        "67). Função que detecta palavras duplicadas em uma frase."
      ],
      "metadata": {
        "id": "_EmzUozStn0X"
      }
    },
    {
      "cell_type": "code",
      "source": [
        "# frase.lower().split(): deixa tudo em minúsculo e divide a frase em palavras.\n",
        "# palavras_vistas: um conjunto para armazenar palavras únicas já encontradas.\n",
        "# duplicadas: conjunto para armazenar as palavras repetidas.\n",
        "# O for percorre cada palavra e verifica se já apareceu antes.\n",
        "# Retorna as palavras duplicadas (se houver).\n",
        "\n",
        "def detectar_palavras_duplicadas(frase):\n",
        "    palavras = frase.lower().split()  # transforma em minúsculas e separa as palavras\n",
        "    palavras_vistas = set()\n",
        "    duplicadas = set()\n",
        "\n",
        "    for palavra in palavras:\n",
        "        if palavra in palavras_vistas:\n",
        "            duplicadas.add(palavra)\n",
        "        else:\n",
        "            palavras_vistas.add(palavra)\n",
        "\n",
        "    return duplicadas\n",
        "\n",
        "# Exemplo de uso\n",
        "frase = \"O cachorro correu atrás do cachorro no quintal\"\n",
        "resultado = detectar_palavras_duplicadas(frase)\n",
        "\n",
        "if resultado:\n",
        "    print(\"Palavras duplicadas:\", resultado)\n",
        "else:\n",
        "    print(\"Nenhuma palavra duplicada encontrada.\")"
      ],
      "metadata": {
        "colab": {
          "base_uri": "https://localhost:8080/"
        },
        "id": "n8ovNn_juMrs",
        "outputId": "7aca9154-0eb5-4a6d-b94c-5d1f80f19ca9"
      },
      "execution_count": 5,
      "outputs": [
        {
          "output_type": "stream",
          "name": "stdout",
          "text": [
            "Palavras duplicadas: {'cachorro'}\n"
          ]
        }
      ]
    },
    {
      "cell_type": "markdown",
      "source": [
        "68). Função que cria senhas seguras aleatórias."
      ],
      "metadata": {
        "id": "KfQXsMA5vPKq"
      }
    },
    {
      "cell_type": "code",
      "source": [
        "# string.ascii_letters: todas as letras (maiúsculas e minúsculas).\n",
        "# string.digits: números de 0 a 9.\n",
        "# string.punctuation: símbolos especiais (como !@#$%&*()).\n",
        "# random.choice(caracteres) escolhe um caractere aleatório da lista de caracteres.\n",
        "# ''.join(...) junta tudo em uma string.\n",
        "# Você pode definir o tamanho da senha no parâmetro tamanho (padrão 12).\n",
        "\n",
        "import random\n",
        "import string\n",
        "\n",
        "def gerar_senha_segura(tamanho=12):\n",
        "    if tamanho < 8:\n",
        "        return \"A senha deve ter no mínimo 8 caracteres.\"\n",
        "\n",
        "    caracteres = string.ascii_letters + string.digits + string.punctuation\n",
        "\n",
        "    senha = ''.join(random.choice(caracteres) for _ in range(tamanho))\n",
        "\n",
        "    return senha\n",
        "\n",
        "# Exemplo de uso\n",
        "senha = gerar_senha_segura(16)\n",
        "print(\"Senha segura gerada:\", senha)"
      ],
      "metadata": {
        "colab": {
          "base_uri": "https://localhost:8080/"
        },
        "id": "ZkoN1K4Mvb1d",
        "outputId": "100e8f66-b3cb-4877-d7a3-334adadc2c1a"
      },
      "execution_count": 6,
      "outputs": [
        {
          "output_type": "stream",
          "name": "stdout",
          "text": [
            "Senha segura gerada: Aue\\K1&hvr${c)H6\n"
          ]
        }
      ]
    },
    {
      "cell_type": "markdown",
      "source": [
        "69). Função que simula um cadastro com dicionários."
      ],
      "metadata": {
        "id": "3mFxxEcOwDE-"
      }
    },
    {
      "cell_type": "code",
      "source": [
        "# Cria-se uma lista cadastro para guardar cada pessoa cadastrada.\n",
        "# Cada pessoa é representada por um dicionário com chaves: \"nome\", \"idade\" e \"email\".\n",
        "# O programa pergunta se o usuário deseja continuar cadastrando.\n",
        "# No final, imprime todos os cadastros realizados.\n",
        "\n",
        "def cadastrar_pessoas():\n",
        "    cadastro = []  # lista de dicionários\n",
        "\n",
        "    while True:\n",
        "        nome = input(\"Digite o nome: \")\n",
        "        idade = input(\"Digite a idade: \")\n",
        "        email = input(\"Digite o e-mail: \")\n",
        "\n",
        "        pessoa = {\n",
        "            \"nome\": nome,\n",
        "            \"idade\": idade,\n",
        "            \"email\": email\n",
        "        }\n",
        "\n",
        "        cadastro.append(pessoa)\n",
        "\n",
        "        continuar = input(\"Deseja cadastrar outra pessoa? (s/n): \").lower()\n",
        "        if continuar != 's':\n",
        "            break\n",
        "\n",
        "    return cadastro\n",
        "\n",
        "# Exemplo de uso\n",
        "cadastros = cadastrar_pessoas()\n",
        "\n",
        "print(\"\\nCadastro de pessoas:\")\n",
        "for pessoa in cadastros:\n",
        "    print(f\"Nome: {pessoa['nome']}, Idade: {pessoa['idade']}, E-mail: {pessoa['email']}\")"
      ],
      "metadata": {
        "colab": {
          "base_uri": "https://localhost:8080/"
        },
        "id": "mI3x7TPRwOin",
        "outputId": "9e27597d-2e55-45a5-c3a2-c00aea75e6d6"
      },
      "execution_count": 7,
      "outputs": [
        {
          "output_type": "stream",
          "name": "stdout",
          "text": [
            "Digite o nome: felix\n",
            "Digite a idade: 60\n",
            "Digite o e-mail: sapo@gmail.com\n",
            "Deseja cadastrar outra pessoa? (s/n): n\n",
            "\n",
            "Cadastro de pessoas:\n",
            "Nome: felix, Idade: 60, E-mail: sapo@gmail.com\n"
          ]
        }
      ]
    },
    {
      "cell_type": "markdown",
      "source": [
        "70). Função que implementa uma calculadora de expressões."
      ],
      "metadata": {
        "id": "rZsw3-ekwwKU"
      }
    },
    {
      "cell_type": "code",
      "source": [
        "# eval() executa a string como código Python — nesse caso, como expressão matemática.\n",
        "# O try/except serve para capturar erros, caso a expressão seja inválida.\n",
        "# O loop permite ao usuário fazer várias operações até digitar sair.\n",
        "\n",
        "def calculadora_expressao():\n",
        "    while True:\n",
        "        expressao = input(\"Digite a expressão matemática (ou 'sair' para encerrar): \")\n",
        "\n",
        "        if expressao.lower() == 'sair':\n",
        "            break\n",
        "\n",
        "        try:\n",
        "            resultado = eval(expressao)\n",
        "            print(\"Resultado:\", resultado)\n",
        "        except Exception as e:\n",
        "            print(\"Expressão inválida! Erro:\", e)\n",
        "\n",
        "# Exemplo de uso\n",
        "calculadora_expressao()"
      ],
      "metadata": {
        "colab": {
          "base_uri": "https://localhost:8080/"
        },
        "id": "t03BBe0Pw-bj",
        "outputId": "edfcf4c5-d03c-4712-c01d-2420f88ccfa5"
      },
      "execution_count": 8,
      "outputs": [
        {
          "name": "stdout",
          "output_type": "stream",
          "text": [
            "Digite a expressão matemática (ou 'sair' para encerrar): 200\n",
            "Resultado: 200\n",
            "Digite a expressão matemática (ou 'sair' para encerrar): 200 * 25\n",
            "Resultado: 5000\n",
            "Digite a expressão matemática (ou 'sair' para encerrar): 50 - 12\n",
            "Resultado: 38\n",
            "Digite a expressão matemática (ou 'sair' para encerrar): sair\n"
          ]
        }
      ]
    }
  ]
}