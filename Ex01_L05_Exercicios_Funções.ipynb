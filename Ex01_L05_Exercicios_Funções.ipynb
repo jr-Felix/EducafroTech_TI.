{
  "nbformat": 4,
  "nbformat_minor": 0,
  "metadata": {
    "colab": {
      "provenance": [],
      "authorship_tag": "ABX9TyOsAvK2S2f2dMT8YufRDKcg"
    },
    "kernelspec": {
      "name": "python3",
      "display_name": "Python 3"
    },
    "language_info": {
      "name": "python"
    }
  },
  "cells": [
    {
      "cell_type": "markdown",
      "source": [
        "1). Crie uma função que conte de 1 a 10."
      ],
      "metadata": {
        "id": "WsfW4J6CoAkO"
      }
    },
    {
      "cell_type": "code",
      "source": [
        "def imprimir_numeros(): # define a função.\n",
        "    for i in range(1, 11): # cria um laço que vai de 1 até 10 (o range vai até o número anterior ao segundo valor).\n",
        "        print(i) # exibe cada número no terminal.\n",
        "\n",
        "# Chamando a função\n",
        "imprimir_numeros() # Por fim, a função é chamada com imprimir_numeros()."
      ],
      "metadata": {
        "colab": {
          "base_uri": "https://localhost:8080/"
        },
        "id": "kGCJLZ91oLiI",
        "outputId": "249edb06-242a-46e1-c389-74ec0e7f7e92"
      },
      "execution_count": null,
      "outputs": [
        {
          "output_type": "stream",
          "name": "stdout",
          "text": [
            "1\n",
            "2\n",
            "3\n",
            "4\n",
            "5\n",
            "6\n",
            "7\n",
            "8\n",
            "9\n",
            "10\n"
          ]
        }
      ]
    },
    {
      "cell_type": "markdown",
      "source": [
        "2). Função que recebe n e imprime de 1 a n."
      ],
      "metadata": {
        "id": "H2wL6QaZpxxX"
      }
    },
    {
      "cell_type": "code",
      "source": [
        "def imprimir_de_1_a_n(n): #define a função com o parâmetro n.\n",
        "    for i in range(1, n + 1): # o range vai de 1 até n (inclusive, por isso n + 1).\n",
        "        print(i) # exibe o valor atual de i.\n",
        "\n",
        "# A função é chamada passando o valor desejado, como imprimir_de_1_a_n(5) para imprimir de 1 a 5.\n",
        "# Exemplo de uso\n",
        "imprimir_de_1_a_n(5)"
      ],
      "metadata": {
        "colab": {
          "base_uri": "https://localhost:8080/"
        },
        "id": "xNdc0CK1qF94",
        "outputId": "63f0b595-8c96-4b8d-d128-fd3149bf4e9d"
      },
      "execution_count": null,
      "outputs": [
        {
          "output_type": "stream",
          "name": "stdout",
          "text": [
            "1\n",
            "2\n",
            "3\n",
            "4\n",
            "5\n"
          ]
        }
      ]
    },
    {
      "cell_type": "markdown",
      "source": [
        "3). Função que soma os números de 1 a n."
      ],
      "metadata": {
        "id": "4SyAhjXQrH7u"
      }
    },
    {
      "cell_type": "code",
      "source": [
        "def somar_de_1_a_n(n):\n",
        "    soma = 0 # inicializa a variável soma.\n",
        "    for i in range(1, n + 1): # percorre os números de 1 até n.\n",
        "        soma += i # adiciona o valor de i à variável soma.\n",
        "    return soma # retorna o resultado final.\n",
        "\n",
        "# No exemplo, somar_de_1_a_n(5) soma 1+2+3+4+5 = 15.\n",
        "# Exemplo de uso\n",
        "resultado = somar_de_1_a_n(5)\n",
        "print(\"A soma de 1 até 5 é:\", resultado)"
      ],
      "metadata": {
        "colab": {
          "base_uri": "https://localhost:8080/"
        },
        "id": "SiOgsKjrrN5i",
        "outputId": "3affc429-e3d6-4089-b071-88f0b59d6d88"
      },
      "execution_count": null,
      "outputs": [
        {
          "output_type": "stream",
          "name": "stdout",
          "text": [
            "A soma de 1 até 5 é: 15\n"
          ]
        }
      ]
    },
    {
      "cell_type": "markdown",
      "source": [
        "\n"
      ],
      "metadata": {
        "id": "p5Mw4s5TsmL9"
      }
    },
    {
      "cell_type": "markdown",
      "source": [
        "4). Função que imprime os números pares de 1 a 50."
      ],
      "metadata": {
        "id": "RjdGsJnlslld"
      }
    },
    {
      "cell_type": "code",
      "source": [
        "def imprimir_pares_ate_50():\n",
        "    for i in range(1, 51): # percorre os números de 1 até 50.\n",
        "        if i % 2 == 0: # verifica se o número é par (resto da divisão por 2 igual a zero).\n",
        "            print(i) # exibe o número par.\n",
        "\n",
        "# Chamando a função\n",
        "imprimir_pares_ate_50()"
      ],
      "metadata": {
        "colab": {
          "base_uri": "https://localhost:8080/"
        },
        "id": "AnQ6hxMPtrAQ",
        "outputId": "7dcd5050-0271-41b9-a7e9-8278df916c7e"
      },
      "execution_count": null,
      "outputs": [
        {
          "output_type": "stream",
          "name": "stdout",
          "text": [
            "2\n",
            "4\n",
            "6\n",
            "8\n",
            "10\n",
            "12\n",
            "14\n",
            "16\n",
            "18\n",
            "20\n",
            "22\n",
            "24\n",
            "26\n",
            "28\n",
            "30\n",
            "32\n",
            "34\n",
            "36\n",
            "38\n",
            "40\n",
            "42\n",
            "44\n",
            "46\n",
            "48\n",
            "50\n"
          ]
        }
      ]
    },
    {
      "cell_type": "markdown",
      "source": [
        "4). Função que imprime os números pares de 1 a 50. - Outro modo de resolver."
      ],
      "metadata": {
        "id": "MDgtwj-GuSM7"
      }
    },
    {
      "cell_type": "code",
      "source": [
        "def imprimir_pares_ate_50():\n",
        "    for i in range(2, 51, 2): # começa no 2, vai até 50 e avança de 2 em 2.\n",
        "        print(i)\n",
        "\n",
        "# Chamando a função\n",
        "imprimir_pares_ate_50()"
      ],
      "metadata": {
        "colab": {
          "base_uri": "https://localhost:8080/"
        },
        "id": "zOUQA38GupbB",
        "outputId": "aa740c5b-b027-416b-96df-01295f2e88b9"
      },
      "execution_count": null,
      "outputs": [
        {
          "output_type": "stream",
          "name": "stdout",
          "text": [
            "2\n",
            "4\n",
            "6\n",
            "8\n",
            "10\n",
            "12\n",
            "14\n",
            "16\n",
            "18\n",
            "20\n",
            "22\n",
            "24\n",
            "26\n",
            "28\n",
            "30\n",
            "32\n",
            "34\n",
            "36\n",
            "38\n",
            "40\n",
            "42\n",
            "44\n",
            "46\n",
            "48\n",
            "50\n"
          ]
        }
      ]
    },
    {
      "cell_type": "markdown",
      "source": [
        "5). Função que imprime a tabuada de um número."
      ],
      "metadata": {
        "id": "aWOjG9TUvqlP"
      }
    },
    {
      "cell_type": "code",
      "source": [
        "# A função tabuada(numero) recebe um número.\n",
        "# Um for percorre os valores de 1 a 10.\n",
        "# Para cada valor de i, multiplica numero * i e imprime no formato a x b = c.\n",
        "# No final, o usuário informa o número que deseja ver a tabuada.\n",
        "def tabuada(numero):\n",
        "    for i in range(1, 11):\n",
        "        resultado = numero * i\n",
        "        print(f\"{numero} x {i} = {resultado}\")\n",
        "\n",
        "# Exemplo de uso\n",
        "tabuada(5)"
      ],
      "metadata": {
        "id": "k4XIdDu5vzTL",
        "colab": {
          "base_uri": "https://localhost:8080/"
        },
        "outputId": "1e7a12b5-d673-4c08-b36b-ddf1c161ed4d"
      },
      "execution_count": null,
      "outputs": [
        {
          "output_type": "stream",
          "name": "stdout",
          "text": [
            "5 x 1 = 5\n",
            "5 x 2 = 10\n",
            "5 x 3 = 15\n",
            "5 x 4 = 20\n",
            "5 x 5 = 25\n",
            "5 x 6 = 30\n",
            "5 x 7 = 35\n",
            "5 x 8 = 40\n",
            "5 x 9 = 45\n",
            "5 x 10 = 50\n"
          ]
        }
      ]
    },
    {
      "cell_type": "markdown",
      "source": [
        "6). Função que recebe uma lista e imprime cada item."
      ],
      "metadata": {
        "id": "xdtBtJp8BNSY"
      }
    },
    {
      "cell_type": "code",
      "source": [
        "# A função imprimir_lista(lista) recebe uma lista como argumento.\n",
        "# Usa um for para percorrer cada item da lista.\n",
        "# Imprime cada item individualmente.\n",
        "\n",
        "def imprimir_lista(lista):\n",
        "    for item in lista:\n",
        "        print(item)\n",
        "\n",
        "# Exemplo de uso\n",
        "nomes = [\"Ana\", \"Bruno\", \"Carlos\", \"Diana\"]\n",
        "imprimir_lista(nomes)"
      ],
      "metadata": {
        "colab": {
          "base_uri": "https://localhost:8080/"
        },
        "id": "WbnQnpd2BdFM",
        "outputId": "ddb0c49e-64c4-471b-8b11-f43c47b51ff1"
      },
      "execution_count": null,
      "outputs": [
        {
          "output_type": "stream",
          "name": "stdout",
          "text": [
            "Ana\n",
            "Bruno\n",
            "Carlos\n",
            "Diana\n"
          ]
        }
      ]
    },
    {
      "cell_type": "markdown",
      "source": [
        "7). Função que imprime os números de 10 a 1 (decrescente)."
      ],
      "metadata": {
        "id": "64RCAcvfCHb3"
      }
    },
    {
      "cell_type": "code",
      "source": [
        "# Começa em 10\n",
        "# Vai até 1 (o valor final 0 é exclusivo)\n",
        "# Decrementa de 1 em 1 (por isso o -1)\n",
        "# Em cada iteração, imprime o valor atual de i.\n",
        "\n",
        "def contagem_decrescente():\n",
        "    for i in range(10, 0, -1):\n",
        "        print(i)\n",
        "\n",
        "# Exemplo de uso\n",
        "contagem_decrescente()"
      ],
      "metadata": {
        "colab": {
          "base_uri": "https://localhost:8080/"
        },
        "id": "mbGS20qACSO0",
        "outputId": "3c937b68-78a3-4a5e-91d9-a2de27f4fc34"
      },
      "execution_count": null,
      "outputs": [
        {
          "output_type": "stream",
          "name": "stdout",
          "text": [
            "10\n",
            "9\n",
            "8\n",
            "7\n",
            "6\n",
            "5\n",
            "4\n",
            "3\n",
            "2\n",
            "1\n"
          ]
        }
      ]
    },
    {
      "cell_type": "markdown",
      "source": [
        "8). Função que conta quantos ímpares existem de 1 a n."
      ],
      "metadata": {
        "id": "iztagDcJDLy1"
      }
    },
    {
      "cell_type": "code",
      "source": [
        "# A função contar_impares(n) percorre os números de 1 até n.\n",
        "# Verifica se o número é ímpar com i % 2 != 0.\n",
        "# Se for, incrementa o contador.\n",
        "# Ao final, exibe a quantidade de números ímpares encontrados.\n",
        "\n",
        "\n",
        "def contar_impares(n):\n",
        "    contador = 0\n",
        "    for i in range(1, n + 1):\n",
        "        if i % 2 != 0:\n",
        "            contador += 1\n",
        "    print(f\"Quantidade de números ímpares de 1 a {n}: {contador}\")\n",
        "\n",
        "# Exemplo de uso\n",
        "numero = int(input(\"Digite um número: \"))\n",
        "contar_impares(numero)"
      ],
      "metadata": {
        "colab": {
          "base_uri": "https://localhost:8080/"
        },
        "id": "oHnXpYk6DQRF",
        "outputId": "acb44a0a-ec11-418a-9bd7-688573e5dd0d"
      },
      "execution_count": null,
      "outputs": [
        {
          "output_type": "stream",
          "name": "stdout",
          "text": [
            "Digite um número: 20\n",
            "Quantidade de números ímpares de 1 a 20: 10\n"
          ]
        }
      ]
    },
    {
      "cell_type": "markdown",
      "source": [
        "9). Função que recebe uma string e imprime caractere por caractere."
      ],
      "metadata": {
        "id": "j9e5naE6EALu"
      }
    },
    {
      "cell_type": "code",
      "source": [
        "# A função imprimir_caracteres(texto) recebe uma string como argumento.\n",
        "# Usa um for para percorrer cada caractere da string.\n",
        "# Imprime cada caractere em uma linha.\n",
        "\n",
        "def imprimir_caracteres(texto):\n",
        "    for caractere in texto:\n",
        "        print(caractere)\n",
        "\n",
        "# Exemplo de uso\n",
        "mensagem = input(\"Digite uma frase ou palavra: \")\n",
        "imprimir_caracteres(mensagem)"
      ],
      "metadata": {
        "colab": {
          "base_uri": "https://localhost:8080/"
        },
        "id": "BiDpnwpmEKoF",
        "outputId": "74a5f4e9-b17d-4397-af50-c921e9fea3b4"
      },
      "execution_count": null,
      "outputs": [
        {
          "output_type": "stream",
          "name": "stdout",
          "text": [
            "Digite uma frase ou palavra: São Paulo/SP\n",
            "S\n",
            "ã\n",
            "o\n",
            " \n",
            "P\n",
            "a\n",
            "u\n",
            "l\n",
            "o\n",
            "/\n",
            "S\n",
            "P\n"
          ]
        }
      ]
    },
    {
      "cell_type": "markdown",
      "source": [
        "10). Função que conta quantas vogais tem em uma palavra."
      ],
      "metadata": {
        "id": "ie3pECnsEvSd"
      }
    },
    {
      "cell_type": "code",
      "source": [
        "# A função contar_vogais(palavra) percorre cada letra da palavra.\n",
        "# Verifica se a letra está dentro da string vogais (que contém todas as vogais maiúsculas e minúsculas).\n",
        "# Se estiver, incrementa o contador.\n",
        "# No final, exibe o total de vogais encontradas.\n",
        "\n",
        "def contar_vogais(palavra):\n",
        "    vogais = \"aeiouAEIOU\"\n",
        "    contador = 0\n",
        "    for letra in palavra:\n",
        "        if letra in vogais:\n",
        "            contador += 1\n",
        "    print(f\"A palavra '{palavra}' tem {contador} vogais.\")\n",
        "\n",
        "# Exemplo de uso\n",
        "texto = input(\"Digite uma palavra: \")\n",
        "contar_vogais(texto)"
      ],
      "metadata": {
        "colab": {
          "base_uri": "https://localhost:8080/"
        },
        "id": "qogO65nqE4EE",
        "outputId": "f6b7e4e9-bc83-44e2-bcd3-81641c436fee"
      },
      "execution_count": null,
      "outputs": [
        {
          "output_type": "stream",
          "name": "stdout",
          "text": [
            "Digite uma palavra: SãoJosé dos Campos\n",
            "A palavra 'SãoJosé dos Campos' tem 5 vogais.\n"
          ]
        }
      ]
    }
  ]
}