{
  "nbformat": 4,
  "nbformat_minor": 0,
  "metadata": {
    "colab": {
      "provenance": [],
      "authorship_tag": "ABX9TyNwp16G+iku9do37A69WjFL"
    },
    "kernelspec": {
      "name": "python3",
      "display_name": "Python 3"
    },
    "language_info": {
      "name": "python"
    }
  },
  "cells": [
    {
      "cell_type": "markdown",
      "source": [
        "01\\03 - 10_EXERCÍCIOS: TIPOS PRIMITIVOS."
      ],
      "metadata": {
        "id": "nHJVaHsfMeT3"
      }
    },
    {
      "cell_type": "markdown",
      "source": [
        "1). Crie uma variável nome e atribua seu nome a ela.<br> Use type() para imprimir o tipo dessa variável."
      ],
      "metadata": {
        "id": "StmSGmL4OUdJ"
      }
    },
    {
      "cell_type": "code",
      "source": [
        "# Atribuindo nome a variável\n",
        "nome = \"jr-Félix\"\n",
        "\n",
        "# Exibindo o valor da variável\n",
        "print(\"O valor da variável nome é:\", nome)\n",
        "\n",
        "# Exibindo o tipo da variável usando type()\n",
        "print(\"O tipo da variável nome é:\", type(nome))\n",
        "\n",
        "# shift + enter p/ executar e move para proxima celula.\n",
        "# ctrl + enter p/ executar e mantem na mesma celula."
      ],
      "metadata": {
        "colab": {
          "base_uri": "https://localhost:8080/"
        },
        "id": "vwvA6ssxO6p9",
        "outputId": "55021b6c-824b-4fb8-ed3b-25eb40d1503f"
      },
      "execution_count": null,
      "outputs": [
        {
          "output_type": "stream",
          "name": "stdout",
          "text": [
            "O valor da variável nome é: jr-Félix\n",
            "O tipo da variável nome é: <class 'str'>\n"
          ]
        }
      ]
    },
    {
      "cell_type": "markdown",
      "source": [
        "2). Atribua um número inteiro à variável idade e exiba seu tipo."
      ],
      "metadata": {
        "id": "ChPV-zDJQDUa"
      }
    },
    {
      "cell_type": "code",
      "source": [
        "# atribuindo um numero inteiro a variável\n",
        "idade = 25\n",
        "\n",
        "# Exibindo o valor e o tipo da variável\n",
        "print(\"Valor da variável idade:\", idade)\n",
        "print(\"Tipo da variável idade:\", type(idade))"
      ],
      "metadata": {
        "colab": {
          "base_uri": "https://localhost:8080/"
        },
        "id": "QuZCgF4pQU8w",
        "outputId": "b0c3bc84-b352-4d5d-b506-1ad9b04055d5"
      },
      "execution_count": null,
      "outputs": [
        {
          "output_type": "stream",
          "name": "stdout",
          "text": [
            "Valor da variável idade: 25\n",
            "Tipo da variável idade: <class 'int'>\n"
          ]
        }
      ]
    },
    {
      "cell_type": "markdown",
      "source": [
        "3). Crie uma variável altura com valor decimal (float) e mostre seu tipo."
      ],
      "metadata": {
        "id": "aLFu9VEqQzIp"
      }
    },
    {
      "cell_type": "code",
      "source": [
        "altura = 1.75\n",
        "\n",
        "# Mostrando o valor da variável\n",
        "print(\"Valor da altura:\", altura)\n",
        "\n",
        "# Mostrando o tipo da variável\n",
        "print(\"Tipo da variável altura:\", type(altura))"
      ],
      "metadata": {
        "colab": {
          "base_uri": "https://localhost:8080/"
        },
        "id": "u2yDcFiwRDQP",
        "outputId": "0739e580-f744-486f-80e9-d3048a507861"
      },
      "execution_count": null,
      "outputs": [
        {
          "output_type": "stream",
          "name": "stdout",
          "text": [
            "Valor da altura: 1.75\n",
            "Tipo da variável altura: <class 'float'>\n"
          ]
        }
      ]
    },
    {
      "cell_type": "markdown",
      "source": [
        "4). Atribua True a uma variável chamada maior_de_idade. <br>Mostre o tipo dela.\n",
        "True é um valor booleano (bool) em Python.<br>\n",
        "type() é a função usada para mostrar o tipo da variável.<br>"
      ],
      "metadata": {
        "id": "HBtpgStbRyMH"
      }
    },
    {
      "cell_type": "code",
      "source": [
        "# Atribuindo True a uma variável chamada maior_de_idade\n",
        "maior_de_idade = True\n",
        "\n",
        "# Mostrando o tipo da variável\n",
        "print(type(maior_de_idade))"
      ],
      "metadata": {
        "colab": {
          "base_uri": "https://localhost:8080/"
        },
        "id": "ebq4V-K0kcX5",
        "outputId": "8be06577-170c-4d87-d14f-bf36deae1e3d"
      },
      "execution_count": null,
      "outputs": [
        {
          "output_type": "stream",
          "name": "stdout",
          "text": [
            "<class 'bool'>\n"
          ]
        }
      ]
    },
    {
      "cell_type": "markdown",
      "source": [
        "5). Crie quatro variáveis com os tipos str, int, float, bool. <br>Mostre todas usando print() com f-string."
      ],
      "metadata": {
        "id": "DG6Ohgs-kxkE"
      }
    },
    {
      "cell_type": "code",
      "source": [
        "# Criando as variáveis\n",
        "nome = \"Felix\"       # str\n",
        "idade = 35           # int\n",
        "altura = 1.75        # float\n",
        "programador = True   # bool\n",
        "\n",
        "# Mostrando os valores com f-string\n",
        "print(f\"Nome: {nome}\")\n",
        "print(f\"Idade: {idade}\")\n",
        "print(f\"Altura: {altura} m\")\n",
        "print(f\"É programador? {programador}\")"
      ],
      "metadata": {
        "colab": {
          "base_uri": "https://localhost:8080/"
        },
        "id": "ZVpHAwFNlJW-",
        "outputId": "51d7d374-777a-4eab-e76e-74f3ac02dcca"
      },
      "execution_count": null,
      "outputs": [
        {
          "output_type": "stream",
          "name": "stdout",
          "text": [
            "Nome: Felix\n",
            "Idade: 35\n",
            "Altura: 1.75 m\n",
            "É programador? True\n"
          ]
        }
      ]
    },
    {
      "cell_type": "markdown",
      "source": [
        "6). Faça um print com f-string dizendo: <br>“João tem 25 anos, mede 1.75m e é maior de idade: True”."
      ],
      "metadata": {
        "id": "hZrfiTholSwx"
      }
    },
    {
      "cell_type": "code",
      "source": [
        "nome = \"João\"\n",
        "idade = 25\n",
        "altura = 1.75\n",
        "maior_de_idade = idade >= 18\n",
        "# \\n quebra de linha\n",
        "print(f\"{nome} tem {idade} anos,\\n mede {altura}m\\n e é maior de idade: {maior_de_idade}\")"
      ],
      "metadata": {
        "colab": {
          "base_uri": "https://localhost:8080/"
        },
        "id": "_uds4EFGlg8O",
        "outputId": "c1f75e4b-dd5a-4529-f19a-1a930f8c4ea0"
      },
      "execution_count": null,
      "outputs": [
        {
          "output_type": "stream",
          "name": "stdout",
          "text": [
            "João tem 25 anos,\n",
            " mede 1.75m\n",
            " e é maior de idade: True\n"
          ]
        }
      ]
    },
    {
      "cell_type": "markdown",
      "source": [
        "7). Crie duas variáveis com números e exiba a soma entre eles, mostrando o tipo do resultado."
      ],
      "metadata": {
        "id": "LlRfAgbPloKn"
      }
    },
    {
      "cell_type": "code",
      "source": [
        "# Criando duas variáveis com números\n",
        "\n",
        "print(\"====================================\")\n",
        "\n",
        "n1 = int(input(\"Digite um número:    \"))\n",
        "n2 = int(input(\"Digite outro número: \"))\n",
        "\n",
        "soma = n1 + n2\n",
        "\n",
        "print()\n",
        "print(f\"O primeiro valor digitado foi:  {n1} \")\n",
        "print(f\"O segundo  valor digitado foi:  {n2} \")\n",
        "print(\"_____________________________________\")\n",
        "print(\"O tipo do resultado é:\", type(soma))\n",
        "print(f\"A soma entre os dois números é: \\033[32m{soma}\\033[0m \")\n"
      ],
      "metadata": {
        "colab": {
          "base_uri": "https://localhost:8080/"
        },
        "id": "C8Qz6DY7l5Uk",
        "outputId": "471a4334-5eb5-49d9-ea95-b07f5d09b969"
      },
      "execution_count": null,
      "outputs": [
        {
          "output_type": "stream",
          "name": "stdout",
          "text": [
            "====================================\n",
            "Digite um número:    33\n",
            "Digite outro número: 27\n",
            "\n",
            "O primeiro valor digitado foi:  33 \n",
            "O segundo  valor digitado foi:  27 \n",
            "_____________________________________\n",
            "O tipo do resultado é: <class 'int'>\n",
            "A soma entre os dois números é: \u001b[32m60\u001b[0m \n"
          ]
        }
      ]
    },
    {
      "cell_type": "markdown",
      "source": [
        "8). Converta um número inteiro para float e mostre o resultado."
      ],
      "metadata": {
        "id": "m4KkzqN_mJ2p"
      }
    },
    {
      "cell_type": "code",
      "source": [
        "# Solicita um número inteiro ao usuário\n",
        "numero_inteiro = int(input(\"Digite um número inteiro: \"))\n",
        "\n",
        "# Converte o número inteiro para float\n",
        "numero_float = float(numero_inteiro)\n",
        "\n",
        "# Exibe o resultado\n",
        "print(\"O número em float é:\", numero_float)"
      ],
      "metadata": {
        "colab": {
          "base_uri": "https://localhost:8080/"
        },
        "id": "NLr1z1fGmWRi",
        "outputId": "7a250996-9503-4def-f4e0-9770b61ef006"
      },
      "execution_count": null,
      "outputs": [
        {
          "output_type": "stream",
          "name": "stdout",
          "text": [
            "Digite um número inteiro: 10\n",
            "O número em float é: 10.0\n"
          ]
        }
      ]
    },
    {
      "cell_type": "markdown",
      "source": [
        "9). Converta um valor booleano para string e mostre."
      ],
      "metadata": {
        "id": "kb1Qy8MxmdXl"
      }
    },
    {
      "cell_type": "code",
      "source": [
        "# Definindo um valor booleano\n",
        "valor_booleano = True\n",
        "\n",
        "# Convertendo para string\n",
        "valor_string = str(valor_booleano)\n",
        "\n",
        "# Mostrando o resultado\n",
        "print(\"O valor booleano é:\", valor_booleano)\n",
        "print(\"O valor convertido para string é:\", valor_string)\n",
        "print(\"O tipo agora é:\", type(valor_string))"
      ],
      "metadata": {
        "colab": {
          "base_uri": "https://localhost:8080/"
        },
        "id": "0VkcARwWm2Cc",
        "outputId": "a904887d-ea41-40c1-fd79-6233ae56a230"
      },
      "execution_count": null,
      "outputs": [
        {
          "output_type": "stream",
          "name": "stdout",
          "text": [
            "O valor booleano é: True\n",
            "O valor convertido para string é: True\n",
            "O tipo agora é: <class 'str'>\n"
          ]
        }
      ]
    },
    {
      "cell_type": "markdown",
      "source": [
        "10). Multiplique um número float por um inteiro. Exiba o resultado e o tipo."
      ],
      "metadata": {
        "id": "BEHGFNVvm434"
      }
    },
    {
      "cell_type": "code",
      "source": [
        "# Definindo um número float\n",
        "numero_float = 7.5\n",
        "\n",
        "# Definindo um número inteiro\n",
        "numero_inteiro = 3\n",
        "\n",
        "# Multiplicando\n",
        "resultado = numero_float * numero_inteiro\n",
        "\n",
        "# Exibindo o resultado\n",
        "print(\"Resultado da multiplicação:\", resultado)\n",
        "\n",
        "# Exibindo o tipo do resultado\n",
        "print(\"Tipo do resultado:\", type(resultado))"
      ],
      "metadata": {
        "colab": {
          "base_uri": "https://localhost:8080/"
        },
        "id": "oaRBnfjAnOHL",
        "outputId": "fd44fb38-4bdd-453d-f72e-facd6a436aa3"
      },
      "execution_count": null,
      "outputs": [
        {
          "output_type": "stream",
          "name": "stdout",
          "text": [
            "Resultado da multiplicação: 22.5\n",
            "Tipo do resultado: <class 'float'>\n"
          ]
        }
      ]
    },
    {
      "cell_type": "markdown",
      "source": [
        "11). Soma dos 100 primeiros números naturais ( 1 + 2 + 3 +...+ 98 + 99 + 100 )"
      ],
      "metadata": {
        "id": "uNMLT7RhqfEX"
      }
    },
    {
      "cell_type": "code",
      "source": [
        "# Soma dos 100 primeiros números naturais\n",
        "\n",
        "# Inicializando a variável soma\n",
        "soma = 0\n",
        "\n",
        "# Loop para somar de 1 até 100\n",
        "for numero in range(1, 101):\n",
        "    soma += numero\n",
        "\n",
        "# Exibindo o resultado\n",
        "print(\"A soma dos 100 primeiros números naturais é:\", soma)"
      ],
      "metadata": {
        "id": "pR_ndIqLriQf",
        "outputId": "ca3af76c-e2e5-4e4b-ba07-b8e291b6002e",
        "colab": {
          "base_uri": "https://localhost:8080/"
        }
      },
      "execution_count": null,
      "outputs": [
        {
          "output_type": "stream",
          "name": "stdout",
          "text": [
            "A soma dos 100 primeiros números naturais é: 5050\n"
          ]
        }
      ]
    }
  ]
}