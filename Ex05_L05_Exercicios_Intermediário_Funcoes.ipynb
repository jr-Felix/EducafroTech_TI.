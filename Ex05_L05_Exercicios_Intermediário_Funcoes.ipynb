{
  "nbformat": 4,
  "nbformat_minor": 0,
  "metadata": {
    "colab": {
      "provenance": [],
      "authorship_tag": "ABX9TyNve2JA4NVKsTqFVTtiKh5M"
    },
    "kernelspec": {
      "name": "python3",
      "display_name": "Python 3"
    },
    "language_info": {
      "name": "python"
    }
  },
  "cells": [
    {
      "cell_type": "markdown",
      "source": [
        "41). Função que determina se uma palavra é palíndromo."
      ],
      "metadata": {
        "id": "Xr1mkW8g65cH"
      }
    },
    {
      "cell_type": "code",
      "source": [
        "# A função eh_palindromo recebe uma string palavra.\n",
        "# Ela cria a variável invertida, que vai guardar a palavra ao contrário.\n",
        "# No for, cada letra da palavra é colocada no começo da string invertida.\n",
        "# Depois compara se a palavra original é igual à invertida.\n",
        "# Se for, é palíndromo.\n",
        "\n",
        "def eh_palindromo(palavra):\n",
        "    invertida = \"\"\n",
        "    for letra in palavra:\n",
        "        invertida = letra + invertida  # inverte a palavra\n",
        "\n",
        "    if palavra == invertida:\n",
        "        print(f'\"{palavra}\" é um palíndromo.')\n",
        "    else:\n",
        "        print(f'\"{palavra}\" não é um palíndromo.')\n",
        "\n",
        "# Exemplos de uso:\n",
        "eh_palindromo(\"radar\")\n",
        "eh_palindromo(\"python\")"
      ],
      "metadata": {
        "colab": {
          "base_uri": "https://localhost:8080/"
        },
        "id": "ZtowKAaA7IVc",
        "outputId": "96141769-04c7-4744-ed09-5199c16116ea"
      },
      "execution_count": null,
      "outputs": [
        {
          "output_type": "stream",
          "name": "stdout",
          "text": [
            "\"radar\" é um palíndromo.\n",
            "\"python\" não é um palíndromo.\n"
          ]
        }
      ]
    },
    {
      "cell_type": "markdown",
      "source": [
        "42). Função que simula a tabuada de todos os números de 1 a 10."
      ],
      "metadata": {
        "id": "VPVVaOp_7upg"
      }
    },
    {
      "cell_type": "code",
      "source": [
        "# O primeiro for percorre os números de 1 a 10 (para cada tabuada).\n",
        "# Para cada número, ele imprime o título da tabuada.\n",
        "# O segundo for multiplica esse número pelos valores de 1 a 10.\n",
        "# A multiplicação e o resultado são exibidos formatados.\n",
        "\n",
        "def tabuada_completa():\n",
        "    for numero in range(1, 11):  # de 1 a 10\n",
        "        print(f\"\\nTabuada do {numero}:\")\n",
        "        for i in range(1, 11):  # de 1 a 10\n",
        "            resultado = numero * i\n",
        "            print(f\"{numero} x {i} = {resultado}\")\n",
        "\n",
        "tabuada_completa()"
      ],
      "metadata": {
        "colab": {
          "base_uri": "https://localhost:8080/"
        },
        "id": "yGoEurod72Gp",
        "outputId": "dc272663-2afc-42d4-d91b-36a008fcef56"
      },
      "execution_count": null,
      "outputs": [
        {
          "output_type": "stream",
          "name": "stdout",
          "text": [
            "\n",
            "Tabuada do 1:\n",
            "1 x 1 = 1\n",
            "1 x 2 = 2\n",
            "1 x 3 = 3\n",
            "1 x 4 = 4\n",
            "1 x 5 = 5\n",
            "1 x 6 = 6\n",
            "1 x 7 = 7\n",
            "1 x 8 = 8\n",
            "1 x 9 = 9\n",
            "1 x 10 = 10\n",
            "\n",
            "Tabuada do 2:\n",
            "2 x 1 = 2\n",
            "2 x 2 = 4\n",
            "2 x 3 = 6\n",
            "2 x 4 = 8\n",
            "2 x 5 = 10\n",
            "2 x 6 = 12\n",
            "2 x 7 = 14\n",
            "2 x 8 = 16\n",
            "2 x 9 = 18\n",
            "2 x 10 = 20\n",
            "\n",
            "Tabuada do 3:\n",
            "3 x 1 = 3\n",
            "3 x 2 = 6\n",
            "3 x 3 = 9\n",
            "3 x 4 = 12\n",
            "3 x 5 = 15\n",
            "3 x 6 = 18\n",
            "3 x 7 = 21\n",
            "3 x 8 = 24\n",
            "3 x 9 = 27\n",
            "3 x 10 = 30\n",
            "\n",
            "Tabuada do 4:\n",
            "4 x 1 = 4\n",
            "4 x 2 = 8\n",
            "4 x 3 = 12\n",
            "4 x 4 = 16\n",
            "4 x 5 = 20\n",
            "4 x 6 = 24\n",
            "4 x 7 = 28\n",
            "4 x 8 = 32\n",
            "4 x 9 = 36\n",
            "4 x 10 = 40\n",
            "\n",
            "Tabuada do 5:\n",
            "5 x 1 = 5\n",
            "5 x 2 = 10\n",
            "5 x 3 = 15\n",
            "5 x 4 = 20\n",
            "5 x 5 = 25\n",
            "5 x 6 = 30\n",
            "5 x 7 = 35\n",
            "5 x 8 = 40\n",
            "5 x 9 = 45\n",
            "5 x 10 = 50\n",
            "\n",
            "Tabuada do 6:\n",
            "6 x 1 = 6\n",
            "6 x 2 = 12\n",
            "6 x 3 = 18\n",
            "6 x 4 = 24\n",
            "6 x 5 = 30\n",
            "6 x 6 = 36\n",
            "6 x 7 = 42\n",
            "6 x 8 = 48\n",
            "6 x 9 = 54\n",
            "6 x 10 = 60\n",
            "\n",
            "Tabuada do 7:\n",
            "7 x 1 = 7\n",
            "7 x 2 = 14\n",
            "7 x 3 = 21\n",
            "7 x 4 = 28\n",
            "7 x 5 = 35\n",
            "7 x 6 = 42\n",
            "7 x 7 = 49\n",
            "7 x 8 = 56\n",
            "7 x 9 = 63\n",
            "7 x 10 = 70\n",
            "\n",
            "Tabuada do 8:\n",
            "8 x 1 = 8\n",
            "8 x 2 = 16\n",
            "8 x 3 = 24\n",
            "8 x 4 = 32\n",
            "8 x 5 = 40\n",
            "8 x 6 = 48\n",
            "8 x 7 = 56\n",
            "8 x 8 = 64\n",
            "8 x 9 = 72\n",
            "8 x 10 = 80\n",
            "\n",
            "Tabuada do 9:\n",
            "9 x 1 = 9\n",
            "9 x 2 = 18\n",
            "9 x 3 = 27\n",
            "9 x 4 = 36\n",
            "9 x 5 = 45\n",
            "9 x 6 = 54\n",
            "9 x 7 = 63\n",
            "9 x 8 = 72\n",
            "9 x 9 = 81\n",
            "9 x 10 = 90\n",
            "\n",
            "Tabuada do 10:\n",
            "10 x 1 = 10\n",
            "10 x 2 = 20\n",
            "10 x 3 = 30\n",
            "10 x 4 = 40\n",
            "10 x 5 = 50\n",
            "10 x 6 = 60\n",
            "10 x 7 = 70\n",
            "10 x 8 = 80\n",
            "10 x 9 = 90\n",
            "10 x 10 = 100\n"
          ]
        }
      ]
    },
    {
      "cell_type": "markdown",
      "source": [
        "43). Função que retorna a interseção entre duas listas."
      ],
      "metadata": {
        "id": "Q3ORQPX88y55"
      }
    },
    {
      "cell_type": "code",
      "source": [
        "# A função percorre cada elemento da lista1.\n",
        "# Verifica se o elemento também está em lista2 e se ainda não está na intersecao (para evitar repetição).\n",
        "# Se sim, adiciona na lista intersecao.\n",
        "# No final, retorna a lista com os elementos comuns.\n",
        "\n",
        "def intersecao_listas(lista1, lista2):\n",
        "    intersecao = []\n",
        "\n",
        "    for elemento in lista1:\n",
        "        if elemento in lista2 and elemento not in intersecao:\n",
        "            intersecao.append(elemento)\n",
        "\n",
        "    return intersecao\n",
        "\n",
        "# Exemplo de uso:\n",
        "lista_a = [1, 2, 3, 4, 5]\n",
        "lista_b = [4, 5, 6, 7, 8]\n",
        "\n",
        "resultado = intersecao_listas(lista_a, lista_b)\n",
        "print(\"Interseção:\", resultado)"
      ],
      "metadata": {
        "colab": {
          "base_uri": "https://localhost:8080/"
        },
        "id": "IYtrMyIR9BuM",
        "outputId": "04c6df23-700d-4556-832e-7fccb47a0e8b"
      },
      "execution_count": null,
      "outputs": [
        {
          "output_type": "stream",
          "name": "stdout",
          "text": [
            "Interseção: [4, 5]\n"
          ]
        }
      ]
    },
    {
      "cell_type": "markdown",
      "source": [
        "44). Função que gera uma lista de números aleatórios entre 1 e 100."
      ],
      "metadata": {
        "id": "sxsjf1pF98IF"
      }
    },
    {
      "cell_type": "code",
      "source": [
        "# random.randint(1, 100) gera um número inteiro aleatório entre 1 e 100\n",
        "# (inclusive).\n",
        "# O for repete isso tamanho vezes para criar a lista.\n",
        "# Cada número é adicionado na lista com .append().\n",
        "# A função retorna a lista completa.\n",
        "\n",
        "import random\n",
        "\n",
        "def gerar_lista_aleatoria(tamanho):\n",
        "    lista_aleatoria = []\n",
        "    for _ in range(tamanho):\n",
        "        numero = random.randint(1, 100)  # gera um número entre 1 e 100\n",
        "        lista_aleatoria.append(numero)\n",
        "    return lista_aleatoria\n",
        "\n",
        "# Exemplo de uso:\n",
        "tamanho = 10  # tamanho da lista que queremos gerar\n",
        "resultado = gerar_lista_aleatoria(tamanho)\n",
        "print(\"Lista aleatória:\", resultado)"
      ],
      "metadata": {
        "colab": {
          "base_uri": "https://localhost:8080/"
        },
        "id": "U0CPBzS399dR",
        "outputId": "6d5106f1-8847-4595-f413-83615d3afd04"
      },
      "execution_count": null,
      "outputs": [
        {
          "output_type": "stream",
          "name": "stdout",
          "text": [
            "Lista aleatória: [98, 78, 42, 47, 72, 43, 83, 67, 23, 97]\n"
          ]
        }
      ]
    },
    {
      "cell_type": "markdown",
      "source": [
        "45). Função que remove números duplicados de uma lista."
      ],
      "metadata": {
        "id": "gPcRzob0-dIN"
      }
    },
    {
      "cell_type": "code",
      "source": [
        "def remover_duplicados(lista):\n",
        "    lista_sem_duplicados = []\n",
        "    for elemento in lista:\n",
        "        if elemento not in lista_sem_duplicados:\n",
        "            lista_sem_duplicados.append(elemento)\n",
        "    return lista_sem_duplicados\n",
        "\n",
        "# Exemplo de uso:\n",
        "lista_original = [1, 2, 3, 2, 4, 1, 5, 3]\n",
        "resultado = remover_duplicados(lista_original)\n",
        "print(\"Lista sem duplicados:\", resultado)"
      ],
      "metadata": {
        "colab": {
          "base_uri": "https://localhost:8080/"
        },
        "id": "gMm4P9PN-l6q",
        "outputId": "4c135135-4187-45f9-da19-b7498c16e6f9"
      },
      "execution_count": null,
      "outputs": [
        {
          "output_type": "stream",
          "name": "stdout",
          "text": [
            "Lista sem duplicados: [1, 2, 3, 4, 5]\n"
          ]
        }
      ]
    },
    {
      "cell_type": "markdown",
      "source": [
        "46). Função que imprime um padrão de asteriscos (tipo pirâmide)."
      ],
      "metadata": {
        "id": "oAN5hBV__HGu"
      }
    },
    {
      "cell_type": "code",
      "source": [
        "# O for vai de 1 até altura.\n",
        "# Para cada linha:\n",
        "# Imprime espaços para alinhar a pirâmide (altura - i).\n",
        "# Depois imprime o número correto de asteriscos (2*i - 1) para formar a pirâmide.\n",
        "# end='' no primeiro print evita pular linha, permitindo concatenar com os asteriscos.\n",
        "\n",
        "def piramide(altura):\n",
        "    for i in range(1, altura + 1):\n",
        "        # Espaços à esquerda\n",
        "        print(' ' * (altura - i), end='')\n",
        "        # Asteriscos (2*i - 1) para formar a pirâmide\n",
        "        print('*' * (2 * i - 1))\n",
        "\n",
        "# Exemplo de uso:\n",
        "piramide(5)"
      ],
      "metadata": {
        "colab": {
          "base_uri": "https://localhost:8080/"
        },
        "id": "Tdh0gD3P_B6z",
        "outputId": "b02aef9f-2887-4fe9-ee5c-f0577d15a474"
      },
      "execution_count": null,
      "outputs": [
        {
          "output_type": "stream",
          "name": "stdout",
          "text": [
            "    *\n",
            "   ***\n",
            "  *****\n",
            " *******\n",
            "*********\n"
          ]
        }
      ]
    },
    {
      "cell_type": "markdown",
      "source": [
        "47). Função que gera todos os anagramas de uma palavra."
      ],
      "metadata": {
        "id": "KbTli5jfBOmW"
      }
    },
    {
      "cell_type": "code",
      "source": [
        "# O programa gera todas as combinações possiveis com a palvra escolhida.\n",
        "# permutations(palavra) gera todas as combinações possíveis das letras.\n",
        "# ''.join(p) transforma cada tupla de letras em string.\n",
        "# set() remove duplicatas (caso haja letras repetidas na palavra).\n",
        "# O for no final imprime todos os anagramas possíveis.\n",
        "\n",
        "from itertools import permutations\n",
        "\n",
        "def gerar_anagramas(palavra):\n",
        "    anagramas = set([''.join(p) for p in permutations(palavra)])\n",
        "    return anagramas # return serve para encerrar a função, e devolver um valor para quem chamou a função.\n",
        "\n",
        "# Exemplo de uso\n",
        "palavra = \"amo\"\n",
        "resultado = gerar_anagramas(palavra)\n",
        "\n",
        "# Exibir os anagramas\n",
        "for a in resultado:\n",
        "    print(a)"
      ],
      "metadata": {
        "colab": {
          "base_uri": "https://localhost:8080/"
        },
        "id": "j3sO6bByimKj",
        "outputId": "b3b56ce7-59cc-4a79-c068-1e48a03fb125"
      },
      "execution_count": 7,
      "outputs": [
        {
          "output_type": "stream",
          "name": "stdout",
          "text": [
            "oam\n",
            "amo\n",
            "mao\n",
            "aom\n",
            "moa\n",
            "oma\n"
          ]
        }
      ]
    },
    {
      "cell_type": "markdown",
      "source": [
        "48). Função que simula o jogo \"adivinhe o número\"."
      ],
      "metadata": {
        "id": "ukRP5IoWm_eL"
      }
    },
    {
      "cell_type": "code",
      "source": [
        "# import random → importa o módulo para gerar números aleatórios.\n",
        "# random.randint(1, 100) → sorteia um número inteiro entre 1 e 100.\n",
        "# while not acertou: → enquanto o jogador não acertar, o loop continua pedindo palpites.\n",
        "# input() → lê o número digitado pelo jogador.\n",
        "# tentativas += 1 → conta quantas tentativas o jogador já fez.\n",
        "# if e elif → verificam se o palpite é igual, menor ou maior que o número sorteado.\n",
        "# Quando o jogador acerta, o jogo informa o número de tentativas e encerra.\n",
        "\n",
        "import random\n",
        "def adivinhe_o_numero():\n",
        "    numero_secreto = random.randint(1, 100)\n",
        "    tentativas = 0\n",
        "    acertou = False\n",
        "\n",
        "    print(\"Tente adivinhar o número entre 1 e 100!\")\n",
        "\n",
        "    while not acertou:\n",
        "        palpite = int(input(\"Digite seu palpite: \"))\n",
        "        tentativas += 1\n",
        "\n",
        "        if palpite == numero_secreto:\n",
        "            print(f\"Parabéns! Você acertou o número {numero_secreto} em {tentativas} tentativas.\")\n",
        "            acertou = True\n",
        "        elif palpite < numero_secreto:\n",
        "            print(\"O número é maior!\")\n",
        "        else:\n",
        "            print(\"O número é menor!\")\n",
        "\n",
        "# Chamar a função para rodar o jogo\n",
        "adivinhe_o_numero()"
      ],
      "metadata": {
        "colab": {
          "base_uri": "https://localhost:8080/"
        },
        "id": "FKhonnCgnPhJ",
        "outputId": "fdc01045-7d6c-4277-ba91-112c02edc3db"
      },
      "execution_count": 8,
      "outputs": [
        {
          "output_type": "stream",
          "name": "stdout",
          "text": [
            "Tente adivinhar o número entre 1 e 100!\n",
            "Digite seu palpite: 25\n",
            "O número é menor!\n",
            "Digite seu palpite: 10\n",
            "O número é menor!\n",
            "Digite seu palpite: 1\n",
            "Parabéns! Você acertou o número 1 em 3 tentativas.\n"
          ]
        }
      ]
    },
    {
      "cell_type": "markdown",
      "source": [
        "49). Função que conta a ocorrência de cada letra em uma string."
      ],
      "metadata": {
        "id": "0r_vkySJp3Uo"
      }
    },
    {
      "cell_type": "code",
      "source": [
        "# ocorrencias = {} → cria um dicionário vazio para guardar a contagem das letras.\n",
        "# for letra in texto: → percorre cada caractere da string.\n",
        "# if letra in ocorrencias:\n",
        "# Se a letra já estiver no dicionário, aumenta a contagem em 1.\n",
        "# else:\n",
        "# Se for a primeira vez que a letra aparece, adiciona no dicionário com o valor 1.\n",
        "# return ocorrencias → devolve o dicionário com as contagens.\n",
        "\n",
        "def contar_ocorrencias(texto):\n",
        "    ocorrencias = {}\n",
        "\n",
        "    for letra in texto:\n",
        "        if letra in ocorrencias:\n",
        "            ocorrencias[letra] += 1\n",
        "        else:\n",
        "            ocorrencias[letra] = 1\n",
        "\n",
        "    return ocorrencias\n",
        "\n",
        "# Exemplo de uso\n",
        "frase = \"banana\"\n",
        "resultado = contar_ocorrencias(frase)\n",
        "print(resultado)"
      ],
      "metadata": {
        "colab": {
          "base_uri": "https://localhost:8080/"
        },
        "id": "SLExtWRDqLl_",
        "outputId": "392e1795-2756-419b-a94a-44917049b294"
      },
      "execution_count": 9,
      "outputs": [
        {
          "output_type": "stream",
          "name": "stdout",
          "text": [
            "{'b': 1, 'a': 3, 'n': 2}\n"
          ]
        }
      ]
    },
    {
      "cell_type": "markdown",
      "source": [
        "50). Função que retorna o maior valor de uma lista sem usar max()."
      ],
      "metadata": {
        "id": "4ZUlVUh6ul6k"
      }
    },
    {
      "cell_type": "code",
      "source": [
        "# if not lista: → verifica se a lista está vazia. Se estiver, retorna None.\n",
        "#  None é um valor especial que representa “nenhum valor”, ou ausência de valor.\n",
        "# maior = lista[0] → assume que o primeiro valor da lista é o maior até o momento.\n",
        "# for numero in lista: → percorre cada número da lista.\n",
        "# if numero > maior: → se o número atual for maior que o valor armazenado em maior, atualiza maior.\n",
        "# return maior → devolve o maior valor encontrado ao final do loop.\n",
        "\n",
        "def maior_valor(lista):\n",
        "    if not lista:\n",
        "        return None  # Retorna None se a lista estiver vazia\n",
        "\n",
        "    maior = lista[0]\n",
        "\n",
        "    for numero in lista:\n",
        "        if numero > maior:\n",
        "            maior = numero\n",
        "\n",
        "    return maior\n",
        "\n",
        "# Exemplo de uso\n",
        "numeros = [5, 8, 2, 10, 3]\n",
        "resultado = maior_valor(numeros)\n",
        "print(\"Maior valor:\", resultado)"
      ],
      "metadata": {
        "colab": {
          "base_uri": "https://localhost:8080/"
        },
        "id": "VUdZACf0uoNn",
        "outputId": "9a26800c-92ba-40fb-8493-8c4a1ca49b19"
      },
      "execution_count": 16,
      "outputs": [
        {
          "output_type": "stream",
          "name": "stdout",
          "text": [
            "Maior valor: 10\n"
          ]
        }
      ]
    }
  ]
}