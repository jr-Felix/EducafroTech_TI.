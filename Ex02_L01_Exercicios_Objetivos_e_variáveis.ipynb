{
  "nbformat": 4,
  "nbformat_minor": 0,
  "metadata": {
    "colab": {
      "provenance": [],
      "authorship_tag": "ABX9TyMXuP6aQVvNqhAv7c+GDpcw"
    },
    "kernelspec": {
      "name": "python3",
      "display_name": "Python 3"
    },
    "language_info": {
      "name": "python"
    }
  },
  "cells": [
    {
      "cell_type": "markdown",
      "source": [
        "02\\03 - 10_EXERCÍCIOS: OBJETOS E VARIÁVEIS."
      ],
      "metadata": {
        "id": "nHJVaHsfMeT3"
      }
    },
    {
      "cell_type": "markdown",
      "source": [
        "11). Crie uma variável a = 10.<br>\n",
        "Depois faça b = a.<br>\n",
        "Altere o valor de a para 20.<br>\n",
        "Imprima b e explique o resultado."
      ],
      "metadata": {
        "id": "-pjf_Y6vn6g3"
      }
    },
    {
      "cell_type": "code",
      "source": [
        "# Criando a variável a\n",
        "a = 10\n",
        "\n",
        "# Atribuindo o valor de a para b\n",
        "b = a\n",
        "\n",
        "# Alterando o valor de a\n",
        "a = 20\n",
        "\n",
        "# Imprimindo o valor de b\n",
        "print(\"Valor de b:\", b)"
      ],
      "metadata": {
        "colab": {
          "base_uri": "https://localhost:8080/"
        },
        "id": "FXIDrvx8o4EK",
        "outputId": "ea5b25df-209d-44c4-909d-088893b8658e"
      },
      "execution_count": null,
      "outputs": [
        {
          "output_type": "stream",
          "name": "stdout",
          "text": [
            "Valor de b: 10\n"
          ]
        }
      ]
    },
    {
      "cell_type": "markdown",
      "source": [
        "12). Crie uma lista valores = [1, 2, 3].<br>\n",
        "Faça x = valores.<br>\n",
        "Adicione o número 4 em x.<br>\n",
        "Imprima valores."
      ],
      "metadata": {
        "id": "0Os0pgcxpIBz"
      }
    },
    {
      "cell_type": "code",
      "source": [
        "# Criando a lista original\n",
        "valores = [1, 2, 3]\n",
        "\n",
        "# Atribuindo a lista a outra variável (ambas apontam para o mesmo objeto na memória)\n",
        "x = valores\n",
        "\n",
        "# A função append() é um método usado em listas (do tipo list) que adiciona um elemento no final da lista.\n",
        "# Adicionando o número 4 em x\n",
        "x.append(4)\n",
        "\n",
        "# Imprimindo a lista valores\n",
        "print(valores)"
      ],
      "metadata": {
        "colab": {
          "base_uri": "https://localhost:8080/"
        },
        "id": "iqPN78eupaC3",
        "outputId": "f9706bda-01fe-43d3-dcb0-1e86d48a8317"
      },
      "execution_count": null,
      "outputs": [
        {
          "output_type": "stream",
          "name": "stdout",
          "text": [
            "[1, 2, 3, 4]\n"
          ]
        }
      ]
    },
    {
      "cell_type": "markdown",
      "source": [
        "13). Declare uma variável mensagem com uma string e use .<br>\n",
        "upper() para mostrar o texto em maiúsculas."
      ],
      "metadata": {
        "id": "kC7SxR_2pmrC"
      }
    },
    {
      "cell_type": "code",
      "source": [
        "# Declarando a variável mensagem com uma string\n",
        "mensagem = \"Olá, bem-vindo ao Google Colab!\"\n",
        "\n",
        "# Exibindo a mensagem em letras maiúsculas usando upper()\n",
        "print(mensagem.upper())"
      ],
      "metadata": {
        "colab": {
          "base_uri": "https://localhost:8080/"
        },
        "id": "IYvIzrRpp2St",
        "outputId": "bc07f832-4d41-4dad-9b74-79f5763fc2a8"
      },
      "execution_count": null,
      "outputs": [
        {
          "output_type": "stream",
          "name": "stdout",
          "text": [
            "OLÁ, BEM-VINDO AO GOOGLE COLAB!\n"
          ]
        }
      ]
    },
    {
      "cell_type": "markdown",
      "source": [
        "14). Crie uma variável texto = \"Python\" e mostre o resultado de texto.<br> lower() e texto.capitalize()."
      ],
      "metadata": {
        "id": "pZs4h_v2p9-2"
      }
    },
    {
      "cell_type": "code",
      "source": [
        "texto = \"Estudando o mundo de Python\"\n",
        "\n",
        "print(texto.lower())       # tudo em minúsculas\n",
        "print(texto.capitalize())  # primeira letra maiúscula e o resto minúsculo"
      ],
      "metadata": {
        "colab": {
          "base_uri": "https://localhost:8080/"
        },
        "id": "Q6NaAMmDqRpM",
        "outputId": "74b854d1-ca13-4ea3-c772-427cf5aed5fe"
      },
      "execution_count": null,
      "outputs": [
        {
          "output_type": "stream",
          "name": "stdout",
          "text": [
            "estudando o mundo de python\n",
            "Estudando o mundo de python\n"
          ]
        }
      ]
    },
    {
      "cell_type": "markdown",
      "source": [
        "15). Atribua a um número o resultado da expressão 2 + 3 * 5. Mostre o valor e tipo."
      ],
      "metadata": {
        "id": "_T3HE6eIqa_L"
      }
    },
    {
      "cell_type": "code",
      "source": [
        "# Atribuir o resultado da expressão a uma variável\n",
        "numero = 2 + 3 * 5\n",
        "\n",
        "# Mostrar o valor\n",
        "print(\"Valor:\", numero)\n",
        "\n",
        "# Mostrar o tipo da variável\n",
        "print(\"Tipo:\", type(numero))"
      ],
      "metadata": {
        "colab": {
          "base_uri": "https://localhost:8080/"
        },
        "id": "IY4saaxjqkpf",
        "outputId": "42ebdfec-683f-4578-e013-372022ef2acd"
      },
      "execution_count": null,
      "outputs": [
        {
          "output_type": "stream",
          "name": "stdout",
          "text": [
            "Valor: 17\n",
            "Tipo: <class 'int'>\n"
          ]
        }
      ]
    },
    {
      "cell_type": "markdown",
      "source": [
        "16). Crie duas variáveis com strings e use + para concatenar. Depois, faça o mesmo usando f-string."
      ],
      "metadata": {
        "id": "HhSP-Krbquse"
      }
    },
    {
      "cell_type": "code",
      "source": [
        "# Criando duas variáveis com strings\n",
        "string1 = \"Olá\"\n",
        "string2 = \"Mundo\"\n",
        "\n",
        "# Concatenando usando o operador +\n",
        "concatenacao_plus = string1 + \" \" + string2\n",
        "print(\"Concatenação com +:\", concatenacao_plus)\n",
        "\n",
        "# Concatenando usando f-string\n",
        "concatenacao_fstring = f\"{string1} {string2}\"\n",
        "print(\"Concatenação com f-string:\", concatenacao_fstring)"
      ],
      "metadata": {
        "colab": {
          "base_uri": "https://localhost:8080/"
        },
        "id": "CzKDb_b9q6lN",
        "outputId": "f228eb6c-6805-4950-cb69-d44c5c363955"
      },
      "execution_count": null,
      "outputs": [
        {
          "output_type": "stream",
          "name": "stdout",
          "text": [
            "Concatenação com +: Olá Mundo\n",
            "Concatenação com f-string: Olá Mundo\n"
          ]
        }
      ]
    },
    {
      "cell_type": "markdown",
      "source": [
        "17). Mostre que variáveis podem mudar de tipo: comece com x = 5, depois x = \"cinco\".<br>\n",
        "Use type() em cada."
      ],
      "metadata": {
        "id": "hr4YXdoPrCk3"
      }
    },
    {
      "cell_type": "code",
      "source": [
        "# Inicialmente, x é um inteiro\n",
        "x = 5\n",
        "print(x)\n",
        "print(type(x))\n",
        "\n",
        "# Agora, x é uma string\n",
        "x = \"cinco\"\n",
        "print(x)\n",
        "print(type(x))"
      ],
      "metadata": {
        "colab": {
          "base_uri": "https://localhost:8080/"
        },
        "id": "wBpZ0SckrTTM",
        "outputId": "fc61af3d-9bf7-42b8-c093-939c776053e7"
      },
      "execution_count": null,
      "outputs": [
        {
          "output_type": "stream",
          "name": "stdout",
          "text": [
            "5\n",
            "<class 'int'>\n",
            "cinco\n",
            "<class 'str'>\n"
          ]
        }
      ]
    },
    {
      "cell_type": "markdown",
      "source": [
        "18). Crie uma variável numero = 10, outra texto = \"10\".<br>\n",
        "Imprima os dois e mostre que são objetos diferentes."
      ],
      "metadata": {
        "id": "SvFMWh60ra27"
      }
    },
    {
      "cell_type": "code",
      "source": [
        "# Criando as variáveis\n",
        "numero = 10\n",
        "texto = \"10\"\n",
        "\n",
        "# Imprimindo os valores\n",
        "print(\"Valor de numero:\", numero)\n",
        "print(\"Valor de texto:\", texto)\n",
        "\n",
        "# Verificando se são objetos diferentes\n",
        "print(\"São objetos diferentes?\", numero is not texto)\n",
        "\n",
        "# Também podemos mostrar os tipos para reforçar\n",
        "print(\"Tipo de numero:\", type(numero))\n",
        "print(\"Tipo de texto:\", type(texto))"
      ],
      "metadata": {
        "colab": {
          "base_uri": "https://localhost:8080/"
        },
        "id": "L3GdaO6Prmtl",
        "outputId": "93113ac7-9153-446b-e4c8-41a622accc27"
      },
      "execution_count": null,
      "outputs": [
        {
          "output_type": "stream",
          "name": "stdout",
          "text": [
            "Valor de numero: 10\n",
            "Valor de texto: 10\n",
            "São objetos diferentes? True\n",
            "Tipo de numero: <class 'int'>\n",
            "Tipo de texto: <class 'str'>\n"
          ]
        }
      ]
    },
    {
      "cell_type": "markdown",
      "source": [
        "19). Crie uma variável dados = input(\"Digite algo: \").<br>\n",
        "Imprima o tipo do que foi digitado."
      ],
      "metadata": {
        "id": "iubFeG-Hrv-t"
      }
    },
    {
      "cell_type": "code",
      "source": [
        "dados = input(\"Digite algo: \")\n",
        "print(\"Tipo do dado digitado:\", type(dados))"
      ],
      "metadata": {
        "colab": {
          "base_uri": "https://localhost:8080/"
        },
        "id": "Bmedc9k_sA4L",
        "outputId": "022ee006-6586-4073-808d-d805831a8791"
      },
      "execution_count": null,
      "outputs": [
        {
          "output_type": "stream",
          "name": "stdout",
          "text": [
            "Digite algo: 34\n",
            "Tipo do dado digitado: <class 'str'>\n"
          ]
        }
      ]
    },
    {
      "cell_type": "markdown",
      "source": [
        "20). Declare preco = 19.99, depois faça preco = str(preco) e mostre o novo tipo."
      ],
      "metadata": {
        "id": "0eIprTKCsMF2"
      }
    },
    {
      "cell_type": "code",
      "source": [
        "# Declarar preco como float\n",
        "preco = 19.99\n",
        "print(\"Tipo inicial:\", type(preco))  # Mostra o tipo inicial\n",
        "\n",
        "# Converter preco para string\n",
        "preco = str(preco)\n",
        "print(\"Tipo após conversão:\", type(preco))  # Mostra o tipo após conversão"
      ],
      "metadata": {
        "colab": {
          "base_uri": "https://localhost:8080/"
        },
        "id": "hUa_5XJdsW2h",
        "outputId": "5db11530-0946-40b8-b2c4-5fed9f6b76d6"
      },
      "execution_count": null,
      "outputs": [
        {
          "output_type": "stream",
          "name": "stdout",
          "text": [
            "Tipo inicial: <class 'float'>\n",
            "Tipo após conversão: <class 'str'>\n"
          ]
        }
      ]
    }
  ]
}