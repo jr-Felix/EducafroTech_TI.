{
  "nbformat": 4,
  "nbformat_minor": 0,
  "metadata": {
    "colab": {
      "provenance": [],
      "authorship_tag": "ABX9TyNBq2FE8ZZArWhaZdIFwfNr"
    },
    "kernelspec": {
      "name": "python3",
      "display_name": "Python 3"
    },
    "language_info": {
      "name": "python"
    }
  },
  "cells": [
    {
      "cell_type": "markdown",
      "source": [
        "11). Imprima os números de 1 a 20 com for."
      ],
      "metadata": {
        "id": "M-AFnE59BugA"
      }
    },
    {
      "cell_type": "code",
      "source": [
        "# range(1, 21) → gera números de 1 até 20 (o último número do range não é incluído).\n",
        "# for i in range(...) → percorre cada número dessa sequência e imprime.\n",
        "# Se quiser, posso fazer també\n",
        "\n",
        "def imprimir_numeros():\n",
        "    for i in range(1, 21):\n",
        "        print(i)\n",
        "\n",
        "# Chamando a função\n",
        "imprimir_numeros()"
      ],
      "metadata": {
        "colab": {
          "base_uri": "https://localhost:8080/"
        },
        "id": "IoXVnnvWB4cO",
        "outputId": "5b3b01e0-a690-4227-e503-bc47c5bf539c"
      },
      "execution_count": 3,
      "outputs": [
        {
          "output_type": "stream",
          "name": "stdout",
          "text": [
            "1\n",
            "2\n",
            "3\n",
            "4\n",
            "5\n",
            "6\n",
            "7\n",
            "8\n",
            "9\n",
            "10\n",
            "11\n",
            "12\n",
            "13\n",
            "14\n",
            "15\n",
            "16\n",
            "17\n",
            "18\n",
            "19\n",
            "20\n"
          ]
        }
      ]
    },
    {
      "cell_type": "markdown",
      "source": [
        "12). Calcule a soma dos números de 1 a 100."
      ],
      "metadata": {
        "id": "Zmi2EPvsCV-Y"
      }
    },
    {
      "cell_type": "code",
      "source": [
        "# range(1, 101) → gera números de 1 até 100.\n",
        "# soma += i → adiciona o valor de i à variável soma a cada repetição.\n",
        "# No final, imprime o total.\n",
        "# Se quiser, também dá pra fazer usa\n",
        "\n",
        "def soma_1_a_100():\n",
        "    soma = 0\n",
        "    for i in range(1, 101):\n",
        "        soma += i\n",
        "    print(\"A soma dos números de 1 a 100 é:\", soma)\n",
        "\n",
        "# Chamando a função\n",
        "soma_1_a_100()"
      ],
      "metadata": {
        "colab": {
          "base_uri": "https://localhost:8080/"
        },
        "id": "O9FgsRqyCgWE",
        "outputId": "2b2584a7-2b8d-4eaf-926a-7417e067bd73"
      },
      "execution_count": 4,
      "outputs": [
        {
          "output_type": "stream",
          "name": "stdout",
          "text": [
            "A soma dos números de 1 a 100 é: 5050\n"
          ]
        }
      ]
    },
    {
      "cell_type": "markdown",
      "source": [
        "13). Mostre todos os múltiplos de 5 até 50."
      ],
      "metadata": {
        "id": "8hakgfqTC8dz"
      }
    },
    {
      "cell_type": "code",
      "source": [
        "# range(5, 51, 5) → começa em 5, vai até 50, pulando de 5 em 5.\n",
        "# print(i) → exibe cada múltiplo.\n",
        "\n",
        "def multiplos_de_5():\n",
        "    for i in range(5, 51, 5):\n",
        "        print(i)\n",
        "\n",
        "# Chamando a função\n",
        "multiplos_de_5()"
      ],
      "metadata": {
        "colab": {
          "base_uri": "https://localhost:8080/"
        },
        "id": "iZ7Yz-giDo__",
        "outputId": "0435c643-36ed-42e2-89a3-2ffc75c792eb"
      },
      "execution_count": 5,
      "outputs": [
        {
          "output_type": "stream",
          "name": "stdout",
          "text": [
            "5\n",
            "10\n",
            "15\n",
            "20\n",
            "25\n",
            "30\n",
            "35\n",
            "40\n",
            "45\n",
            "50\n"
          ]
        }
      ]
    },
    {
      "cell_type": "markdown",
      "source": [
        "14). Imprima os números ímpares de 1 a 30."
      ],
      "metadata": {
        "id": "EeXrZaohD8Mx"
      }
    },
    {
      "cell_type": "code",
      "source": [
        "# range(1, 31) gera os números de 1 a 30.\n",
        "# if numero % 2 != 0 verifica se o número é ímpar.\n",
        "# print(numero) exibe o número na tela.\n",
        "\n",
        "\n",
        "def imprimir_impares():\n",
        "    for numero in range(1, 31):\n",
        "        if numero % 2 != 0:\n",
        "            print(numero)\n",
        "\n",
        "# Chamando a função\n",
        "imprimir_impares()"
      ],
      "metadata": {
        "colab": {
          "base_uri": "https://localhost:8080/"
        },
        "id": "kMVbhsQQEEq9",
        "outputId": "3c12593d-7b1f-4be2-9e14-5120526ac9b4"
      },
      "execution_count": 6,
      "outputs": [
        {
          "output_type": "stream",
          "name": "stdout",
          "text": [
            "1\n",
            "3\n",
            "5\n",
            "7\n",
            "9\n",
            "11\n",
            "13\n",
            "15\n",
            "17\n",
            "19\n",
            "21\n",
            "23\n",
            "25\n",
            "27\n",
            "29\n"
          ]
        }
      ]
    },
    {
      "cell_type": "markdown",
      "source": [
        "15). Mostre a tabuada do 8."
      ],
      "metadata": {
        "id": "2ZTQJWdIEcqG"
      }
    },
    {
      "cell_type": "code",
      "source": [
        "# range(1, 11) gera os números de 1 a 10.\n",
        "# 8 * i faz a multiplicação.\n",
        "# print(f\"8 x {i} = {resultado}\") exibe o cálculo formatado bonitinho.\n",
        "\n",
        "def tabuada_do_8():\n",
        "    for i in range(1, 11):\n",
        "        resultado = 8 * i\n",
        "        print(f\"8 x {i} = {resultado}\")\n",
        "\n",
        "# Chamando a função\n",
        "tabuada_do_8()"
      ],
      "metadata": {
        "colab": {
          "base_uri": "https://localhost:8080/"
        },
        "id": "rgqenU_iE9av",
        "outputId": "27ce129a-d3af-4f41-bd07-4b75e3b45baa"
      },
      "execution_count": 9,
      "outputs": [
        {
          "output_type": "stream",
          "name": "stdout",
          "text": [
            "8 x 1 = 8\n",
            "8 x 2 = 16\n",
            "8 x 3 = 24\n",
            "8 x 4 = 32\n",
            "8 x 5 = 40\n",
            "8 x 6 = 48\n",
            "8 x 7 = 56\n",
            "8 x 8 = 64\n",
            "8 x 9 = 72\n",
            "8 x 10 = 80\n"
          ]
        }
      ]
    },
    {
      "cell_type": "markdown",
      "source": [
        "16). Conte e imprima quantos caracteres tem a palavra \"Python\"."
      ],
      "metadata": {
        "id": "gZm8V_6JFRBf"
      }
    },
    {
      "cell_type": "code",
      "source": [
        "# len(palavra) conta a quantidade de caracteres da string.\n",
        "# print() exibe o resultado formatado.\n",
        "\n",
        "def contar_caracteres():\n",
        "    palavra = \"Python\"\n",
        "    quantidade = len(palavra)\n",
        "    print(f'A palavra \"{palavra}\" tem {quantidade} caracteres.')\n",
        "\n",
        "# Chamando a função\n",
        "contar_caracteres()"
      ],
      "metadata": {
        "colab": {
          "base_uri": "https://localhost:8080/"
        },
        "id": "ahkpZwGOFXqc",
        "outputId": "e940d9a0-4706-4f78-8b0c-fafd508f1e0c"
      },
      "execution_count": 10,
      "outputs": [
        {
          "output_type": "stream",
          "name": "stdout",
          "text": [
            "A palavra \"Python\" tem 6 caracteres.\n"
          ]
        }
      ]
    },
    {
      "cell_type": "markdown",
      "source": [
        "17). Imprima cada letra da palavra \"Programar\" em uma linha."
      ],
      "metadata": {
        "id": "l1o9wdJMF1O0"
      }
    },
    {
      "cell_type": "code",
      "source": [],
      "metadata": {
        "id": "dE6FKAwHGC2u"
      },
      "execution_count": null,
      "outputs": []
    },
    {
      "cell_type": "code",
      "source": [
        "# for letra in palavra: percorre cada caractere da string.\n",
        "# print(letra) imprime cada letra em uma nova linha.\n",
        "\n",
        "def imprimir_letras():\n",
        "    palavra = \"Programar\"\n",
        "    for letra in palavra:\n",
        "        print(letra)\n",
        "\n",
        "# Chamando a função\n",
        "imprimir_letras()"
      ],
      "metadata": {
        "colab": {
          "base_uri": "https://localhost:8080/"
        },
        "id": "jJtiKJSNF81l",
        "outputId": "4c3a7b5b-98f0-408d-85c1-4946c6686ac8"
      },
      "execution_count": 11,
      "outputs": [
        {
          "output_type": "stream",
          "name": "stdout",
          "text": [
            "P\n",
            "r\n",
            "o\n",
            "g\n",
            "r\n",
            "a\n",
            "m\n",
            "a\n",
            "r\n"
          ]
        }
      ]
    },
    {
      "cell_type": "markdown",
      "source": [
        "18). Mostre todos os números entre 100 e 110."
      ],
      "metadata": {
        "id": "BuesMKnUGWqW"
      }
    },
    {
      "cell_type": "code",
      "source": [
        "# range(100, 111) gera os números de 100 até 110 (o final é exclusivo, então usamos 111).\n",
        "# print(numero) exibe cada número em uma nova linha.\n",
        "\n",
        "def mostrar_numeros():\n",
        "    for numero in range(100, 111):\n",
        "        print(numero)\n",
        "\n",
        "# Chamando a função\n",
        "mostrar_numeros()"
      ],
      "metadata": {
        "colab": {
          "base_uri": "https://localhost:8080/"
        },
        "id": "6hDmqFMCGqke",
        "outputId": "4ec8d2a0-1f1c-4984-a57a-95f3fcc9c284"
      },
      "execution_count": 12,
      "outputs": [
        {
          "output_type": "stream",
          "name": "stdout",
          "text": [
            "100\n",
            "101\n",
            "102\n",
            "103\n",
            "104\n",
            "105\n",
            "106\n",
            "107\n",
            "108\n",
            "109\n",
            "110\n"
          ]
        }
      ]
    },
    {
      "cell_type": "markdown",
      "source": [
        "19). Conte quantos números divisíveis por 3 entre 1 e 100."
      ],
      "metadata": {
        "id": "n6JPSJl2G_DX"
      }
    },
    {
      "cell_type": "code",
      "source": [
        "# Percorre os números de 1 a 100.\n",
        "# Verifica se o número é divisível por 3 (numero % 3 == 0).\n",
        "# Incrementa o contador para cada número divisível.\n",
        "# Imprime a quantidade total encontrada.\n",
        "\n",
        "def contar_divisiveis_por_3():\n",
        "    contador = 0\n",
        "    for numero in range(1, 101):\n",
        "        if numero % 3 == 0:\n",
        "            contador += 1\n",
        "    print(f'Quantidade de números divisíveis por 3 entre 1 e 100: {contador}')\n",
        "\n",
        "# Chamando a função\n",
        "contar_divisiveis_por_3()"
      ],
      "metadata": {
        "colab": {
          "base_uri": "https://localhost:8080/"
        },
        "id": "B335LV3rHFlP",
        "outputId": "df76c28f-d428-4a54-9108-c44d5b542938"
      },
      "execution_count": 13,
      "outputs": [
        {
          "output_type": "stream",
          "name": "stdout",
          "text": [
            "Quantidade de números divisíveis por 3 entre 1 e 100: 33\n"
          ]
        }
      ]
    },
    {
      "cell_type": "markdown",
      "source": [
        "20). Some os números de uma lista predefinida."
      ],
      "metadata": {
        "id": "vhcyn75pHlJ4"
      }
    },
    {
      "cell_type": "code",
      "source": [
        "# A lista lista contém números fixos.\n",
        "# A função sum() calcula a soma dos elementos da lista.\n",
        "# O resultado é exibido na tela.\n",
        "\n",
        "def somar_lista():\n",
        "    lista = [2, 5, 8, 10, 3]  # Exemplo de lista predefinida\n",
        "    soma = sum(lista)\n",
        "    print(f'A soma dos números da lista é: {soma}')\n",
        "\n",
        "# Chamando a função\n",
        "somar_lista()"
      ],
      "metadata": {
        "colab": {
          "base_uri": "https://localhost:8080/"
        },
        "id": "aPTHDwfOHtYb",
        "outputId": "1c5564d1-03ce-41e5-cc45-57c077716c93"
      },
      "execution_count": 15,
      "outputs": [
        {
          "output_type": "stream",
          "name": "stdout",
          "text": [
            "A soma dos números da lista é: 28\n"
          ]
        }
      ]
    }
  ]
}