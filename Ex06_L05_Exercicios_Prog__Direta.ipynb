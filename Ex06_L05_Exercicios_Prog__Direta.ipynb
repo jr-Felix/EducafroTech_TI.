{
  "nbformat": 4,
  "nbformat_minor": 0,
  "metadata": {
    "colab": {
      "provenance": [],
      "authorship_tag": "ABX9TyMfAQO703d0VfPH6keXiEYB"
    },
    "kernelspec": {
      "name": "python3",
      "display_name": "Python 3"
    },
    "language_info": {
      "name": "python"
    }
  },
  "cells": [
    {
      "cell_type": "markdown",
      "source": [
        "51). Gere uma matriz 3x3 com valores sequenciais."
      ],
      "metadata": {
        "id": "Ol9LoA8VYKvh"
      }
    },
    {
      "cell_type": "code",
      "source": [
        "# Criar matriz 3x3 com valores sequenciais\n",
        "matriz = []\n",
        "valor = 1\n",
        "\n",
        "for i in range(3):\n",
        "    linha = []\n",
        "    for j in range(3):\n",
        "        linha.append(valor)\n",
        "        valor += 1\n",
        "    matriz.append(linha)\n",
        "\n",
        "# Exibir a matriz\n",
        "for linha in matriz:\n",
        "    print(linha)"
      ],
      "metadata": {
        "colab": {
          "base_uri": "https://localhost:8080/"
        },
        "id": "C6jyeY30Ybdy",
        "outputId": "1584ee9d-b5c8-4e72-f04a-0775c4f42286"
      },
      "execution_count": 2,
      "outputs": [
        {
          "output_type": "stream",
          "name": "stdout",
          "text": [
            "[1, 2, 3]\n",
            "[4, 5, 6]\n",
            "[7, 8, 9]\n"
          ]
        }
      ]
    },
    {
      "cell_type": "markdown",
      "source": [
        "52). Crie um histograma com * para representar a quantidade de letras."
      ],
      "metadata": {
        "id": "qG3TADQpYqee"
      }
    },
    {
      "cell_type": "code",
      "source": [
        "def histograma(texto):\n",
        "    contador = {}\n",
        "\n",
        "    # Contar as letras\n",
        "    for letra in texto:\n",
        "        if letra.isalpha():  # Ignora espaços e pontuações\n",
        "            letra = letra.lower()  # Ignora diferença entre maiúscula/minúscula\n",
        "            if letra in contador:\n",
        "                contador[letra] += 1\n",
        "            else:\n",
        "                contador[letra] = 1\n",
        "\n",
        "    # Exibir o histograma\n",
        "    for letra in sorted(contador):\n",
        "        print(f\"{letra}: {'*' * contador[letra]}\")\n",
        "\n",
        "# Exemplo de uso\n",
        "histograma(\"banana\") # Ele conta quantas vezes cada letra aparece em um texto, e e representa por asteristico."
      ],
      "metadata": {
        "colab": {
          "base_uri": "https://localhost:8080/"
        },
        "id": "FSo0cDv2Y1d8",
        "outputId": "5f9f79c6-66dd-4749-c6ee-4ad990f252d6"
      },
      "execution_count": 4,
      "outputs": [
        {
          "output_type": "stream",
          "name": "stdout",
          "text": [
            "a: ***\n",
            "b: *\n",
            "n: **\n"
          ]
        }
      ]
    },
    {
      "cell_type": "markdown",
      "source": [
        "53). Transforme uma lista de strings em uma única string."
      ],
      "metadata": {
        "id": "maK6xBgNZuLV"
      }
    },
    {
      "cell_type": "code",
      "source": [
        "# A função join() junta os elementos de uma lista de strings em uma única string.\n",
        "# O que você coloca antes do .join() é o separador entre os itens — nesse caso, um espaço (\" \").\n",
        "\n",
        "# Lista de strings\n",
        "lista = [\"Olá\", \"mundo\", \"Python\", \"é\", \"legal\"]\n",
        "\n",
        "# Transformar em uma única string separada por espaço\n",
        "unica_string = \" \".join(lista)\n",
        "\n",
        "# Exibir o resultado\n",
        "print(unica_string)"
      ],
      "metadata": {
        "colab": {
          "base_uri": "https://localhost:8080/"
        },
        "id": "lROf3721Z2Gg",
        "outputId": "91cc6457-738a-4546-cd0b-ab4bd3840a9a"
      },
      "execution_count": 5,
      "outputs": [
        {
          "output_type": "stream",
          "name": "stdout",
          "text": [
            "Olá mundo Python é legal\n"
          ]
        }
      ]
    },
    {
      "cell_type": "markdown",
      "source": [
        "54). Gere todos os pares (x, y) com x de 1 a 3 e y de 1 a 3."
      ],
      "metadata": {
        "id": "3U8B7a4AaWiZ"
      }
    },
    {
      "cell_type": "code",
      "source": [
        "# O primeiro for controla o valor de x de 1 a 3.\n",
        "# O segundo for controla o valor de y de 1 a 3.\n",
        "# Para cada valor de x, o y percorre 1, 2 e 3 — formando todos os pares possíveis.\n",
        "\n",
        "for x in range(1, 4):\n",
        "    for y in range(1, 4):\n",
        "        print(f\"({x}, {y})\")"
      ],
      "metadata": {
        "colab": {
          "base_uri": "https://localhost:8080/"
        },
        "id": "llbaibx2acJa",
        "outputId": "3ec7136b-e714-4581-af39-4cdc387436e2"
      },
      "execution_count": 6,
      "outputs": [
        {
          "output_type": "stream",
          "name": "stdout",
          "text": [
            "(1, 1)\n",
            "(1, 2)\n",
            "(1, 3)\n",
            "(2, 1)\n",
            "(2, 2)\n",
            "(2, 3)\n",
            "(3, 1)\n",
            "(3, 2)\n",
            "(3, 3)\n"
          ]
        }
      ]
    },
    {
      "cell_type": "markdown",
      "source": [
        "55). Encontre o menor número em uma lista aninhada."
      ],
      "metadata": {
        "id": "MQBIur3zay2b"
      }
    },
    {
      "cell_type": "code",
      "source": [
        "# Começamos assumindo que o menor valor é o primeiro elemento da lista.\n",
        "# Depois, percorremos cada sublista e cada número dentro dela.\n",
        "# Sempre que encontramos um número menor que o atual, atualizamos a variável menor.\n",
        "\n",
        "# Lista aninhada\n",
        "lista = [\n",
        "    [5, 8, 2],\n",
        "    [9, 3, 7],\n",
        "    [6, 1, 4]\n",
        "]\n",
        "\n",
        "# Inicializa o menor número com o primeiro elemento da lista\n",
        "menor = lista[0][0]\n",
        "\n",
        "# Percorre a lista aninhada\n",
        "for sublista in lista:\n",
        "    for numero in sublista:\n",
        "        if numero < menor:\n",
        "            menor = numero\n",
        "\n",
        "# Exibir o menor número\n",
        "print(\"Menor número:\", menor)"
      ],
      "metadata": {
        "colab": {
          "base_uri": "https://localhost:8080/"
        },
        "id": "lenQtam9bAIC",
        "outputId": "f7a272ef-9dfa-4791-d720-8614bc1d005a"
      },
      "execution_count": 9,
      "outputs": [
        {
          "output_type": "stream",
          "name": "stdout",
          "text": [
            "Menor número: 1\n"
          ]
        }
      ]
    },
    {
      "cell_type": "markdown",
      "source": [
        "56). Some os valores da diagonal de uma matriz quadrada."
      ],
      "metadata": {
        "id": "VShQ7rG9bmbY"
      }
    },
    {
      "cell_type": "code",
      "source": [
        "# A diagonal principal de uma matriz quadrada são os elementos onde o índice da linha é igual ao índice da coluna: matriz[0][0], matriz[1][1], matriz[2][2]...\n",
        "# O for percorre os índices de 0 até o tamanho da matriz.\n",
        "# A cada passo, soma o elemento matriz[i][i] à variável soma_diagonal.\n",
        "\n",
        "# Matriz quadrada 3x3\n",
        "matriz = [\n",
        "    [4, 2, 3],\n",
        "    [1, 5, 6],\n",
        "    [7, 8, 9]\n",
        "]\n",
        "\n",
        "# Somar os valores da diagonal principal\n",
        "soma_diagonal = 0\n",
        "\n",
        "for i in range(len(matriz)):\n",
        "    soma_diagonal += matriz[i][i]\n",
        "\n",
        "# Exibir o resultado\n",
        "print(\"Soma da diagonal principal:\", soma_diagonal)"
      ],
      "metadata": {
        "colab": {
          "base_uri": "https://localhost:8080/"
        },
        "id": "T3JSELY1b35Z",
        "outputId": "ca909cfa-724f-41d3-b3dc-4d13f17ceb27"
      },
      "execution_count": 10,
      "outputs": [
        {
          "output_type": "stream",
          "name": "stdout",
          "text": [
            "Soma da diagonal principal: 18\n"
          ]
        }
      ]
    },
    {
      "cell_type": "markdown",
      "source": [
        "57). Inverta a ordem das palavras de uma frase."
      ],
      "metadata": {
        "id": "PRPq1JX0cabQ"
      }
    },
    {
      "cell_type": "code",
      "source": [
        "# split() separa a frase em uma lista de palavras.\n",
        "# [::-1] inverte a lista.\n",
        "# \" \".join() junta as palavras invertidas de volta em uma string, separadas por espaço.\n",
        "\n",
        "\n",
        "# Frase de exemplo\n",
        "frase = \"Python é muito divertido\"\n",
        "\n",
        "# Separar as palavras em uma lista\n",
        "palavras = frase.split()\n",
        "\n",
        "# Inverter a lista de palavras\n",
        "palavras_invertidas = palavras[::-1]\n",
        "\n",
        "# Juntar novamente em uma string\n",
        "frase_invertida = \" \".join(palavras_invertidas)\n",
        "\n",
        "# Exibir o resultado\n",
        "print(frase_invertida)"
      ],
      "metadata": {
        "colab": {
          "base_uri": "https://localhost:8080/"
        },
        "id": "d0k9JdNKch8n",
        "outputId": "9498c606-af31-4415-e13c-4cbdc4a4b798"
      },
      "execution_count": 11,
      "outputs": [
        {
          "output_type": "stream",
          "name": "stdout",
          "text": [
            "divertido muito é Python\n"
          ]
        }
      ]
    },
    {
      "cell_type": "markdown",
      "source": [
        "58). Simule um jogo da forca (sem interface)."
      ],
      "metadata": {
        "id": "QJb9Ex7cdA7i"
      }
    },
    {
      "cell_type": "code",
      "source": [
        "# A palavra secreta é \"python\".\n",
        "# O jogador tem 6 tentativas para errar.\n",
        "# A cada tentativa:\n",
        "# Se acertar a letra, ela aparece na posição correta.\n",
        "# Se errar, perde uma tentativa e a letra é adicionada à lista de erradas.\n",
        "# O jogo termina quando:\n",
        "# O jogador adivinha todas as letras.\n",
        "# Ou as tentativas acabam.\n",
        "\n",
        "def jogo_da_forca():\n",
        "    palavra = \"python\"  # Palavra secreta\n",
        "    letras_descobertas = [\"_\"] * len(palavra)\n",
        "    tentativas = 6\n",
        "    letras_erradas = []\n",
        "\n",
        "    print(\"=== Jogo da Forca ===\")\n",
        "\n",
        "    while tentativas > 0 and \"_\" in letras_descobertas:\n",
        "        print(\"\\nPalavra:\", \" \".join(letras_descobertas))\n",
        "        print(\"Letras erradas:\", \", \".join(letras_erradas))\n",
        "        print(f\"Tentativas restantes: {tentativas}\")\n",
        "\n",
        "        letra = input(\"Digite uma letra: \").lower()\n",
        "\n",
        "        if letra in palavra:\n",
        "            for i in range(len(palavra)):\n",
        "                if palavra[i] == letra:\n",
        "                    letras_descobertas[i] = letra\n",
        "        else:\n",
        "            if letra not in letras_erradas:\n",
        "                letras_erradas.append(letra)\n",
        "                tentativas -= 1\n",
        "            else:\n",
        "                print(\"Você já tentou essa letra.\")\n",
        "\n",
        "    if \"_\" not in letras_descobertas:\n",
        "        print(\"\\nParabéns! Você descobriu a palavra:\", palavra)\n",
        "    else:\n",
        "        print(\"\\nGame Over! A palavra era:\", palavra)\n",
        "\n",
        "# Iniciar o jogo\n",
        "jogo_da_forca()"
      ],
      "metadata": {
        "colab": {
          "base_uri": "https://localhost:8080/"
        },
        "id": "-owSRtBQdLM6",
        "outputId": "5c25fad1-9390-44fa-d681-3eacc34c7a25"
      },
      "execution_count": 14,
      "outputs": [
        {
          "output_type": "stream",
          "name": "stdout",
          "text": [
            "=== Jogo da Forca ===\n",
            "\n",
            "Palavra: _ _ _ _ _ _\n",
            "Letras erradas: \n",
            "Tentativas restantes: 6\n",
            "Digite uma letra: p\n",
            "\n",
            "Palavra: p _ _ _ _ _\n",
            "Letras erradas: \n",
            "Tentativas restantes: 6\n",
            "Digite uma letra: y\n",
            "\n",
            "Palavra: p y _ _ _ _\n",
            "Letras erradas: \n",
            "Tentativas restantes: 6\n",
            "Digite uma letra: t\n",
            "\n",
            "Palavra: p y t _ _ _\n",
            "Letras erradas: \n",
            "Tentativas restantes: 6\n",
            "Digite uma letra: h\n",
            "\n",
            "Palavra: p y t h _ _\n",
            "Letras erradas: \n",
            "Tentativas restantes: 6\n",
            "Digite uma letra: o\n",
            "\n",
            "Palavra: p y t h o _\n",
            "Letras erradas: \n",
            "Tentativas restantes: 6\n",
            "Digite uma letra: n\n",
            "\n",
            "Parabéns! Você descobriu a palavra: python\n"
          ]
        }
      ]
    },
    {
      "cell_type": "markdown",
      "source": [
        "59). Compare se duas palavras têm as mesmas letras."
      ],
      "metadata": {
        "id": "Brx2THwyeeUk"
      }
    },
    {
      "cell_type": "code",
      "source": [
        "# lower() deixa as palavras todas em minúsculas para não diferenciar maiúsculas de minúsculas.\n",
        "# sorted() ordena as letras das palavras em ordem alfabética.\n",
        "# Se as listas de letras ordenadas forem iguais, significa que as palavras têm as mesmas letras.\n",
        "\n",
        "def mesmas_letras(palavra1, palavra2):\n",
        "    # Converte as palavras para letras minúsculas e ordena as letras\n",
        "    return sorted(palavra1.lower()) == sorted(palavra2.lower())\n",
        "\n",
        "# Exemplo de uso\n",
        "print(mesmas_letras(\"amor\", \"roma\"))  # True\n",
        "print(mesmas_letras(\"python\", \"typhon\"))  # True\n",
        "print(mesmas_letras(\"teste\", \"setes\"))  # False"
      ],
      "metadata": {
        "colab": {
          "base_uri": "https://localhost:8080/"
        },
        "id": "pbeEIkehes90",
        "outputId": "b77d48e2-9365-4501-a15d-f98a12543c8b"
      },
      "execution_count": 15,
      "outputs": [
        {
          "output_type": "stream",
          "name": "stdout",
          "text": [
            "True\n",
            "True\n",
            "False\n"
          ]
        }
      ]
    },
    {
      "cell_type": "markdown",
      "source": [
        "60). Mostre a tabela ASCII dos caracteres de uma string."
      ],
      "metadata": {
        "id": "EepcV6_6fD9O"
      }
    },
    {
      "cell_type": "code",
      "source": [
        "# A função ord() retorna o código ASCII (ou Unicode) do caractere.\n",
        "# O código imprime cada caractere da string junto com seu valor numérico.\n",
        "\n",
        "def tabela_ascii(texto):\n",
        "    print(\"Caractere | Código ASCII\")\n",
        "    print(\"-----------------------\")\n",
        "    for caractere in texto:\n",
        "        print(f\"    {caractere}     |     {ord(caractere)}\")\n",
        "\n",
        "# Exemplo de uso\n",
        "tabela_ascii(\"Python!\")"
      ],
      "metadata": {
        "colab": {
          "base_uri": "https://localhost:8080/"
        },
        "id": "QYLoADozfVII",
        "outputId": "5b76a6c2-1904-4433-d59e-e5ebf3797e1c"
      },
      "execution_count": 18,
      "outputs": [
        {
          "output_type": "stream",
          "name": "stdout",
          "text": [
            "Caractere | Código ASCII\n",
            "-----------------------\n",
            "    P     |     80\n",
            "    y     |     121\n",
            "    t     |     116\n",
            "    h     |     104\n",
            "    o     |     111\n",
            "    n     |     110\n",
            "    !     |     33\n"
          ]
        }
      ]
    }
  ]
}